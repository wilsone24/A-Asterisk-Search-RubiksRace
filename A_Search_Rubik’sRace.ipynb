{
  "nbformat": 4,
  "nbformat_minor": 0,
  "metadata": {
    "colab": {
      "provenance": []
    },
    "kernelspec": {
      "name": "python3",
      "display_name": "Python 3"
    },
    "language_info": {
      "name": "python"
    }
  },
  "cells": [
    {
      "cell_type": "markdown",
      "source": [
        "# **Parcial N.1 Inteligencia Artificial**\n",
        "\n",
        "\n",
        "**Miembros:**\n",
        "* Wilson Manuel Estrada Ortega **(200098310)**\n",
        "\n",
        "* Emily Johana Roldan Ripoll **(200162631)**\n",
        "\n",
        "* Ana Maria Ardila Pacheco **(200159370)**"
      ],
      "metadata": {
        "id": "7dw3qncOD5vm"
      }
    },
    {
      "cell_type": "markdown",
      "source": [
        "## **Descripción del examen**\n",
        "\n",
        "El objetivo de este reto es implementar un algoritmo de Búsqueda A* en Python que permita encontrar una solución a un juego de Rubik’s Race, partiendo de un estado inicial hasta llegar a un estado final como meta.\n",
        "\n",
        "\n",
        "![image.png](data:image/png;base64,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)"
      ],
      "metadata": {
        "id": "APSUrc4v8-Ur"
      }
    },
    {
      "cell_type": "markdown",
      "source": [
        "## **Caracteristicas**\n",
        "\n",
        "- El estado inicial se encuentra definido en un archivo de texto (.txt) y la meta en otro archivo de texto (.txt) diferente.\n",
        "\n",
        "- Para definir el contenido de cada casilla use las siguientes convenciones: * casilla vacía, B blanco, R rojo, V verde, N naranja, Z azul, A amarillo.\n",
        "\n",
        "\n",
        "**Movimientos:**\n",
        "\n",
        "\n",
        "En cada jugada hay máximo cuatro movimientos posibles: (1) Arriba, (2) Abajo, (3) Izquierda y (4) Derecha. Cada movimiento se representa con el número que está entre paréntesis.\n",
        "\n",
        "- (1) Arriba indica que la ficha que está debajo de la casilla vacía se mueve hacia arriba.\n",
        "\n",
        "- (2) Abajo indica que la ficha que está arriba de la casilla vacía se mueve hacia abajo.\n",
        "\n",
        "- (3) Izquierda indica que la ficha que está a la derecha de la casilla vacía se mueve hacia la izquierda.\n",
        "\n",
        "- (4) Derecha indica que la ficha que está a la izquierde de la casilla vacía se mueve hacia la derecha.\n",
        "\n"
      ],
      "metadata": {
        "id": "VIjUqVEp-E34"
      }
    },
    {
      "cell_type": "markdown",
      "source": [
        "##**Desarrollo de la solución**"
      ],
      "metadata": {
        "id": "EHoj4eZk_rsI"
      }
    },
    {
      "cell_type": "markdown",
      "source": [
        "### **Carga de archivos**\n",
        "\n",
        "Lee un archivo y devuelve su contenido en dos formatos:  \n",
        "1. **Formato original** con saltos de línea.  \n",
        "2. **Cadena unificada** sin espacios ni saltos de línea.  \n",
        "\n",
        "**Funcionamiento:**  \n",
        "- Abre el archivo en modo lectura.  \n",
        "- Elimina espacios en blanco y líneas vacías.  \n",
        "- Retorna el contenido en ambos formatos.  \n",
        "- Maneja errores si el archivo no se encuentra o hay problemas al leerlo.  "
      ],
      "metadata": {
        "id": "yJ_78BR0yrpx"
      }
    },
    {
      "cell_type": "code",
      "source": [
        "import heapq  # Importamos heapq para manejar colas de prioridad (si se usa más adelante)\n",
        "\n",
        "def cargar_archivo(ruta):\n",
        "    \"\"\"Carga un archivo y devuelve su contenido como texto en formato original y como una cadena en una sola línea.\"\"\"\n",
        "    try:\n",
        "        with open(ruta, 'r') as archivo:  # Abrimos el archivo en modo lectura\n",
        "            lineas = [linea.strip() for linea in archivo if linea.strip()]  # Eliminamos espacios y líneas vacías\n",
        "            contenido = \"\\n\".join(lineas)  # Mantenemos el formato original con saltos de línea\n",
        "            contenido_cadena = \"\".join(lineas)  # Convertimos el contenido en una sola línea\n",
        "        return contenido, contenido_cadena  # Retornamos el contenido en ambos formatos\n",
        "    except FileNotFoundError:\n",
        "        return \"El archivo no se encontró.\", \"\"  # Mensaje de error si el archivo no existe\n",
        "    except Exception as e:\n",
        "        return f\"Ocurrió un error: {e}\", \"\"  # Captura otros errores y los muestra"
      ],
      "metadata": {
        "id": "3c8IhhXZyuS2"
      },
      "execution_count": 59,
      "outputs": []
    },
    {
      "cell_type": "markdown",
      "source": [
        "### **Validación de tableros**\n",
        "\n",
        "Verifica que los tableros inicial y meta cumplan con las reglas del juego.\n",
        "\n",
        "**Funcionamiento:**  \n",
        "- Comprueba que el tablero inicial contenga la celda vacía (`*`).  \n",
        "- Verifica que el tamaño del tablero inicial sea 25 y el de la meta, 9.  \n",
        "- Asegura que la celda vacía esté en la posición central (índice 12).  \n",
        "- Confirma que los caracteres en ambos tableros sean válidos (`B, R, V, N, Z, A`) y (* en el inicial).  \n",
        "- Se asegura de que ningún carácter aparezca más de 4 veces.  \n",
        "\n",
        "Si todo es correcto, retorna `True`; en caso contrario, `False`.  \n",
        "\n"
      ],
      "metadata": {
        "id": "6TDtMP2S06Il"
      }
    },
    {
      "cell_type": "code",
      "source": [
        "def validar_tableros(tablero_meta, tablero_inicial):\n",
        "    \"\"\"Valida si los tableros inicial y meta cumplen con las reglas establecidas.\"\"\"\n",
        "    caracteres_validos = {'B', 'R', 'V', 'N', 'Z', 'A'}  # Conjunto de caracteres permitidos\n",
        "    celda_vacia = '*'  # Representación de la celda vacía\n",
        "\n",
        "    if celda_vacia not in tablero_inicial: return False  # La celda vacía debe estar en el tablero inicial\n",
        "    if len(tablero_inicial) != 25 or len(tablero_meta) != 9: return False  # Verificar tamaño de los tableros\n",
        "    if tablero_inicial[12] != celda_vacia: return False  # La celda vacía debe estar en la posición 13 del string, 12 en python\n",
        "\n",
        "    if any(c not in caracteres_validos and c != celda_vacia for c in tablero_inicial): return False  # Validar caracteres iniciales\n",
        "    if any(c not in caracteres_validos for c in tablero_meta): return False  # Validar caracteres de la meta\n",
        "\n",
        "    for c in caracteres_validos:\n",
        "        if tablero_inicial.count(c) > 4 or tablero_meta.count(c) > 4: return False  # Ningún carácter debe aparecer más de 4 veces\n",
        "\n",
        "    return True  # Si pasa todas las validaciones, retorna True"
      ],
      "metadata": {
        "id": "i0aWCrR106jX"
      },
      "execution_count": 60,
      "outputs": []
    },
    {
      "cell_type": "markdown",
      "source": [
        "### **Ubicación del espacio vacío**\n",
        "\n",
        "La función `encontrar_vacio` localiza la posición de la celda vacía (`*`) dentro del tablero. Dado que el tablero es una cadena de caracteres, se usa el método `.index()` para obtener la primera aparición de `*`, que representa la casilla vacía.\n",
        "\n",
        "**Funcionamiento:**  \n",
        "- Busca en el tablero el carácter `*`.  \n",
        "- Retorna la posición (índice) donde se encuentra.  \n"
      ],
      "metadata": {
        "id": "e1Fxkh97327I"
      }
    },
    {
      "cell_type": "code",
      "source": [
        "def encontrar_vacio(tablero):\n",
        "    \"\"\"Encuentra la posición del espacio vacío (*) en el tablero.\"\"\"\n",
        "    return tablero.index(\"*\")  # Retorna el índice donde se encuentra el carácter '*'"
      ],
      "metadata": {
        "id": "rgC0LXnV32N8"
      },
      "execution_count": 61,
      "outputs": []
    },
    {
      "cell_type": "markdown",
      "source": [
        "### **Generación de movimientos del espacio vacío**\n",
        "\n",
        "La función `generar_movimientos` obtiene la posición de la celda vacía (`*`) dentro del tablero y calcula los posibles movimientos intercambiándola con las fichas adyacentes. Se define un tablero de 5x5 y se asignan direcciones de movimiento: arriba, abajo, izquierda y derecha. Luego, se validan los límites del tablero para evitar movimientos inválidos y se generan nuevas configuraciones del tablero resultantes de cada movimiento.\n",
        "\n",
        "**Funcionamiento:**  \n",
        "- Se localiza el índice de `*`.  \n",
        "- Se determinan los movimientos válidos según la posición.  \n",
        "- Se intercambia `*` con la ficha correspondiente para cada movimiento posible.  \n",
        "- Se devuelve una lista con los tableros generados y el tipo de movimiento realizado.  \n",
        "\n",
        "\n"
      ],
      "metadata": {
        "id": "SCpvMZyI4K-0"
      }
    },
    {
      "cell_type": "code",
      "source": [
        "def generar_movimientos(tablero):\n",
        "    \"\"\"Genera los posibles movimientos del espacio vacío (*) en el tablero.\"\"\"\n",
        "    idx = encontrar_vacio(tablero)  # Encuentra la posición actual del espacio vacío (*)\n",
        "    filas, cols = 5, 5  # Definimos el tamaño del tablero (5x5)\n",
        "    x, y = divmod(idx, cols)  # Convertimos el índice en coordenadas (fila, columna)\n",
        "    movimientos = []  # Lista donde almacenaremos los tableros resultantes tras los movimientos\n",
        "\n",
        "    # Diccionario con los desplazamientos posibles:\n",
        "    # 1: Arriba (-5 posiciones), 2: Abajo (+5 posiciones), 3: Izquierda (-1), 4: Derecha (+1)\n",
        "    direcciones = {1: -cols, 2: cols, 3: -1, 4: 1}\n",
        "\n",
        "    for mov, d in direcciones.items():\n",
        "        new_idx = idx + d  # Calculamos la nueva posición después del movimiento\n",
        "\n",
        "        # Verificamos que el movimiento sea válido:\n",
        "        # - Que el nuevo índice esté dentro de los límites del tablero\n",
        "        # - Que no se mueva a la izquierda si está en la primera columna\n",
        "        # - Que no se mueva a la derecha si está en la última columna\n",
        "        if 0 <= new_idx < len(tablero) and not (y == 0 and mov == 3) and not (y == 4 and mov == 4):\n",
        "            nuevo_tablero = list(tablero)  # Convertimos la cadena en una lista para modificarla\n",
        "            nuevo_tablero[idx], nuevo_tablero[new_idx] = nuevo_tablero[new_idx], \"*\"  # Intercambiamos posiciones\n",
        "            movimientos.append((\"\".join(nuevo_tablero), mov))  # Agregamos el nuevo tablero y el movimiento\n",
        "\n",
        "    return movimientos  # Retornamos la lista de posibles tableros tras los movimientos"
      ],
      "metadata": {
        "id": "19DdLX2o1ncB"
      },
      "execution_count": 62,
      "outputs": []
    },
    {
      "cell_type": "markdown",
      "source": [
        "### **Extracción de la zona central**\n",
        "\n",
        "La función `extraer_zona_central` obtiene los 9 caracteres que conforman la parte central del tablero 5x5. Para ello, selecciona y concatena los elementos de las tres filas intermedias.\n",
        "\n",
        "**Funcionamiento:**  \n",
        "- Se extraen los caracteres de las posiciones 6 a 8, 11 a 13 y 16 a 18.  \n",
        "- Se concatenan en una sola cadena, representando la zona central del tablero.  "
      ],
      "metadata": {
        "id": "YzdaZIpu5YZC"
      }
    },
    {
      "cell_type": "code",
      "source": [
        "def extraer_zona_central(tablero):\n",
        "    \"\"\"Extrae los 9 caracteres de la zona central del tablero 5x5.\"\"\"\n",
        "    return tablero[6:9] + tablero[11:14] + tablero[16:19]  # Tomamos las filas centrales y las concatenamos"
      ],
      "metadata": {
        "id": "HPz3D3Zq5HT2"
      },
      "execution_count": 63,
      "outputs": []
    },
    {
      "cell_type": "markdown",
      "source": [
        "### **Cálculo de heurística**\n",
        "\n",
        "La función `heuristica` evalúa qué tan lejos está el tablero actual del estado meta, contando las fichas mal ubicadas en la zona central.\n",
        "\n",
        "**Funcionamiento:**  \n",
        "- Se extrae la zona central del tablero.  \n",
        "- Se compara con la meta y se cuentan las fichas en posiciones incorrectas.  \n",
        "- Retorna el número de fichas mal colocadas como medida de la heurística.  "
      ],
      "metadata": {
        "id": "gFMa714B5faG"
      }
    },
    {
      "cell_type": "code",
      "source": [
        "def heuristica(tablero, meta):\n",
        "    \"\"\"Calcula la heurística basada en fichas mal ubicadas en la zona central.\"\"\"\n",
        "    zona = extraer_zona_central(tablero)  # Extraemos la zona central del tablero actual\n",
        "    return sum(1 for i in range(9) if zona[i] != meta[i])  # Contamos cuántas fichas están mal ubicadas"
      ],
      "metadata": {
        "id": "jU2sVdjv5HU2"
      },
      "execution_count": 64,
      "outputs": []
    },
    {
      "cell_type": "markdown",
      "source": [
        "### **Formato visual del tablero**  \n",
        "\n",
        "#### **Función `imprimir_tablero`**  \n",
        "Esta función transforma una cadena lineal en un tablero de 5x5 con bordes y separadores.  \n",
        "\n",
        "**Funcionamiento:**  \n",
        "- Divide la cadena en segmentos de 5 caracteres para formar filas.  \n",
        "- Construye una estructura con líneas horizontales (`+---+`) y separadores verticales (`|`).  \n",
        "- Retorna una representación en texto del tablero con saltos de línea.  \n",
        "\n",
        "#### **Función `imprimir_tablero_colores`**  \n",
        "Esta función muestra un tablero de 5x5 con colores y resalta el área central 3x3 con un borde marrón. Está diseñada para ejecutarse en entornos como Google Colab o Jupyter Notebook.  \n",
        "\n",
        "**Funcionamiento:**  \n",
        "- Asigna colores a cada tipo de letra mediante un diccionario.  \n",
        "- Divide la cadena en filas de 5 caracteres para construir la estructura del tablero.  \n",
        "- Usa HTML y CSS para crear una tabla con estilo visual atractivo.  \n",
        "- Resalta el área central 3x3 con un borde marrón más grueso.  \n",
        "- Reemplaza los `'*'` con celdas vacías y un fondo blanco.  \n",
        "- Muestra la tabla en Jupyter Notebook o Google Colab usando `display(HTML())`.  \n"
      ],
      "metadata": {
        "id": "8ygLxIdq5py5"
      }
    },
    {
      "cell_type": "code",
      "source": [
        "def imprimir_tablero(tablero):\n",
        "    \"\"\"Devuelve el tablero en formato visual de 5x5 con bordes y separadores.\"\"\"\n",
        "    filas = [tablero[i:i+5] for i in range(0, 25, 5)]  # Divide la cadena en bloques de 5 caracteres (filas)\n",
        "    separador = \"+---\" * 5 + \"+\"  # Crea la línea separadora horizontal con bordes\n",
        "    resultado = [separador]  # Inicia la lista con la primera línea separadora\n",
        "    for fila in filas:\n",
        "        resultado.append(\"| \" + \" | \".join(fila) + \" |\")  # Construye la fila con separadores verticales\n",
        "        resultado.append(separador)  # Agrega la línea separadora después de cada fila\n",
        "    return \"\\n\".join(resultado)  # Une todas las líneas en un solo string con saltos de línea\n",
        "\n",
        "\n",
        "from IPython.core.display import display, HTML  # Importar las funciones necesarias para mostrar HTML en Colab\n",
        "def imprimir_tablero_colores(tablero):\n",
        "    \"\"\"Imprime el tablero 5x5 con colores y resalta el área central 3x3 con un borde marrón.\"\"\"\n",
        "    colores = {  # Diccionario que asigna colores a cada letra del tablero\n",
        "        'V': 'green',   # Verde para 'V'\n",
        "        'Z': 'blue',    # Azul para 'Z'\n",
        "        'N': 'gray',    # Gris para 'N'\n",
        "        'R': 'red',     # Rojo para 'R'\n",
        "        'B': 'black',   # Negro para 'B'\n",
        "        'A': 'orange'   # Naranja para 'A'\n",
        "    }\n",
        "    filas = [tablero[i:i+5] for i in range(0, 25, 5)]  # Divide el string en filas de 5 caracteres cada una\n",
        "    html = '<table style=\"border-collapse: collapse; font-size: 20px; background-color: #f2f2f2; border-radius: 10px; padding: 10px;\">'  # Inicia la tabla con estilo\n",
        "    for i, fila in enumerate(filas):  # Itera sobre cada fila del tablero\n",
        "        html += '<tr>'  # Inicia una nueva fila en la tabla\n",
        "        for j, c in enumerate(fila):  # Itera sobre cada celda en la fila\n",
        "            color = colores.get(c, \"black\") if c != '*' else \"#f2f2f2\"  # Obtiene el color correspondiente o gris si es '*'\n",
        "            contenido = c if c != '*' else \"\"  # Si es '*', deja la celda vacía\n",
        "            bg_color = \"#ffffff\" if c == '*' else \"#e6e6e6\"  # Color de fondo: blanco si es '*', gris claro en otros casos\n",
        "            # Verifica si la celda está dentro del área central 3x3\n",
        "            if 1 <= i <= 3 and 1 <= j <= 3:\n",
        "                borde = \"3px solid brown\"  # Aplica un borde marrón grueso si está en el área central\n",
        "            else:\n",
        "                borde = \"1px solid #ccc\"  # Borde normal para el resto de las celdas\n",
        "            # Agrega la celda a la tabla con el estilo correspondiente\n",
        "            html += f'<td style=\"width: 40px; height: 40px; text-align: center; border: {borde}; background-color: {bg_color}; color: {color}; font-weight: bold; border-radius: 5px;\">{contenido}</td>'\n",
        "        html += '</tr>'  # Cierra la fila actual\n",
        "    html += '</table>'  # Cierra la tabla\n",
        "    display(HTML(html))  # Muestra la tabla en Jupyter Notebook"
      ],
      "metadata": {
        "id": "wRVS7mhC75Qc"
      },
      "execution_count": 65,
      "outputs": []
    },
    {
      "cell_type": "markdown",
      "source": [
        "### **Traducción de movimientos**\n",
        "\n",
        "La función `traduce_mov` convierte un número de movimiento en su dirección correspondiente.\n",
        "\n",
        "**Funcionamiento:**  \n",
        "- Usa un diccionario para mapear números a direcciones:  \n",
        "  - 1 → Abajo  \n",
        "  - 2 → Arriba  \n",
        "  - 3 → Derecha  \n",
        "  - 4 → Izquierda  \n",
        "- Retorna la dirección correspondiente o un mensaje si el número es inválido.  "
      ],
      "metadata": {
        "id": "wL3_8Lzn5yo6"
      }
    },
    {
      "cell_type": "code",
      "source": [
        "def traduce_mov(numero):\n",
        "    \"\"\"Traduce un número de movimiento a su dirección correspondiente.\"\"\"\n",
        "    movimientos = {1: \"Abajo\", 2: \"Arriba\", 3: \"Derecha\", 4: \"Izquierda\"}  # Mapeo de números a direcciones\n",
        "    return movimientos.get(numero, \"Movimiento inválido\")  # Devuelve la dirección o un mensaje si no es válido"
      ],
      "metadata": {
        "id": "ywSBOaC55uUp"
      },
      "execution_count": 66,
      "outputs": []
    },
    {
      "cell_type": "markdown",
      "source": [
        "### **Algoritmo A***\n",
        "\n",
        "La función `a_star` implementa el algoritmo A* para encontrar la solución óptima en un tablero.\n",
        "\n",
        "**Funcionamiento:**  \n",
        "- Usa una cola de prioridad (`frontera`) para explorar los estados con menor costo estimado.  \n",
        "- Guarda los estados visitados para evitar ciclos.  \n",
        "- Expande los movimientos posibles y calcula la heurística.  \n",
        "- Si encuentra la meta, reconstruye el camino de solución, mostrando y guardando los pasos en `solucion.txt`.  \n",
        "- Si no hay solución, lo indica en el archivo y en consola.  \n",
        "\n"
      ],
      "metadata": {
        "id": "7znX_DB25zEe"
      }
    },
    {
      "cell_type": "code",
      "source": [
        "def a_star(inicial, meta):\n",
        "    \"\"\"Implementación del algoritmo A* para encontrar la solución óptima.\"\"\"\n",
        "    frontera = [(heuristica(inicial, meta), 0, inicial, [])]  # Cola de prioridad con (costo estimado, costo real, estado, camino)\n",
        "    visitados = set()  # Conjunto para almacenar estados visitados\n",
        "\n",
        "    with open(\"solucion.txt\", \"w\") as archivo:  # Abre un archivo para guardar la solución\n",
        "        while frontera:\n",
        "            _, g, estado_actual, camino = heapq.heappop(frontera)  # Extrae el estado con menor costo estimado\n",
        "\n",
        "            if extraer_zona_central(estado_actual) == meta:  # Si el estado actual es la meta, se encontró la solución\n",
        "                total_movs = len(camino)\n",
        "                actual_mov = 0\n",
        "                archivo.write(\"¡Solución encontrada!\\n\")\n",
        "                archivo.write(f\"Número total de movimientos: {total_movs}\\n\\n\")\n",
        "                archivo.write(\"Pasos de la solución:\\n\")\n",
        "\n",
        "                print(\"¡Solución encontrada!\")\n",
        "                print(f\"Número total de movimientos: {total_movs}\\n\")\n",
        "\n",
        "                estado = inicial\n",
        "                archivo.write(imprimir_tablero(estado) + \"\\n\\n\")\n",
        "                imprimir_tablero_colores(estado)\n",
        "                print(\"\")\n",
        "                print(\"\")\n",
        "                print(\"\")\n",
        "                print(\"\")\n",
        "\n",
        "                for mov in camino:  # Recorre los movimientos realizados para mostrar el proceso paso a paso\n",
        "                    for nuevo_estado, m in generar_movimientos(estado):\n",
        "                        if m == mov:\n",
        "                            actual_mov += 1\n",
        "                            estado = nuevo_estado\n",
        "                            archivo.write(f\"MOVIMIENTO# {actual_mov}: {traduce_mov(m)} - Heurística: {heuristica(estado, meta)}\\n\")\n",
        "                            archivo.write(imprimir_tablero(estado) + \"\\n\\n\")\n",
        "                            print(f\"MOVIMIENTO# {actual_mov}: {traduce_mov(m)} - Heurística: {heuristica(estado, meta)}\\n\")\n",
        "                            imprimir_tablero_colores(estado)\n",
        "                            print(\"\")\n",
        "                            print(\"\")\n",
        "                            print(\"\")\n",
        "                            print(\"\")\n",
        "                            break\n",
        "                return\n",
        "\n",
        "            if estado_actual in visitados:  # Si el estado ya fue visitado, se ignora\n",
        "                continue\n",
        "            visitados.add(estado_actual)  # Marca el estado como visitado\n",
        "\n",
        "            for nuevo_estado, mov in generar_movimientos(estado_actual):  # Genera y evalúa los movimientos posibles\n",
        "                if nuevo_estado not in visitados:\n",
        "                    heapq.heappush(frontera, (g + 1 + heuristica(nuevo_estado, meta), g + 1, nuevo_estado, camino + [mov]))\n",
        "\n",
        "        archivo.write(\"No hay Solución\")  # Si se agotan las opciones, no hay solución\n",
        "        print(\"No hay solución\")"
      ],
      "metadata": {
        "id": "H60G8H2J5xD3"
      },
      "execution_count": 67,
      "outputs": []
    },
    {
      "cell_type": "markdown",
      "source": [
        "### **Función Principal (`main`)**\n",
        "\n",
        "Ejecuta el algoritmo A* si los archivos de entrada se cargan correctamente y los tableros son válidos.\n",
        "\n",
        "**Funcionamiento:**  \n",
        "- Carga los archivos `meta.txt` y `inicial.txt`.  \n",
        "- Valida que los tableros cumplan con las reglas establecidas.  \n",
        "- Si hay errores en la carga o validación, los muestra y termina la ejecución.  \n",
        "- Si todo es correcto, ejecuta el algoritmo A* para encontrar la solución.  \n"
      ],
      "metadata": {
        "id": "sVYDnwDp5qMt"
      }
    },
    {
      "cell_type": "code",
      "source": [
        "def main():\n",
        "    \"\"\"Función principal que ejecuta el algoritmo A* si los archivos se cargan correctamente y los tableros son válidos.\"\"\"\n",
        "    ruta_meta = '/content/meta.txt'\n",
        "    ruta_inicial = '/content/inicial.txt'\n",
        "\n",
        "    try:\n",
        "        contenido_meta, cadena_meta = cargar_archivo(ruta_meta)  # Carga el archivo de la meta\n",
        "        contenido_inicial, cadena_inicial = cargar_archivo(ruta_inicial)  # Carga el archivo inicial\n",
        "    except Exception as e:\n",
        "        print(f\"Error al cargar los archivos: {e}\")\n",
        "        return\n",
        "\n",
        "    if not validar_tableros(cadena_meta, cadena_inicial):\n",
        "        print('No hay Solución')\n",
        "        with open(\"solucion.txt\", \"w\") as archivo:\n",
        "            archivo.write(\"No hay Solución\")\n",
        "    else:\n",
        "        # Si todo está correcto, ejecutar A*\n",
        "        a_star(cadena_inicial, cadena_meta)"
      ],
      "metadata": {
        "id": "sNPGdv_Y5qUI"
      },
      "execution_count": 68,
      "outputs": []
    },
    {
      "cell_type": "markdown",
      "source": [
        "## **Ejecución de la solución**"
      ],
      "metadata": {
        "id": "ezdl7wev6XE9"
      }
    },
    {
      "cell_type": "code",
      "source": [
        "# Llamar a la función principal\n",
        "if __name__ == \"__main__\":\n",
        "    main()"
      ],
      "metadata": {
        "id": "-vNtreOF6OtI",
        "colab": {
          "base_uri": "https://localhost:8080/",
          "height": 1000
        },
        "outputId": "38f03505-39d8-4bfe-ea60-4318ad7e47fe"
      },
      "execution_count": 69,
      "outputs": [
        {
          "output_type": "stream",
          "name": "stdout",
          "text": [
            "¡Solución encontrada!\n",
            "Número total de movimientos: 19\n",
            "\n"
          ]
        },
        {
          "output_type": "display_data",
          "data": {
            "text/plain": [
              "<IPython.core.display.HTML object>"
            ],
            "text/html": [
              "<table style=\"border-collapse: collapse; font-size: 20px; background-color: #f2f2f2; border-radius: 10px; padding: 10px;\"><tr><td style=\"width: 40px; height: 40px; text-align: center; border: 1px solid #ccc; background-color: #e6e6e6; color: orange; font-weight: bold; border-radius: 5px;\">A</td><td style=\"width: 40px; height: 40px; text-align: center; border: 1px solid #ccc; background-color: #e6e6e6; color: black; font-weight: bold; border-radius: 5px;\">B</td><td style=\"width: 40px; height: 40px; text-align: center; border: 1px solid #ccc; background-color: #e6e6e6; color: blue; font-weight: bold; border-radius: 5px;\">Z</td><td style=\"width: 40px; height: 40px; text-align: center; border: 1px solid #ccc; background-color: #e6e6e6; color: orange; font-weight: bold; border-radius: 5px;\">A</td><td style=\"width: 40px; height: 40px; text-align: center; border: 1px solid #ccc; background-color: #e6e6e6; color: orange; font-weight: bold; border-radius: 5px;\">A</td></tr><tr><td style=\"width: 40px; height: 40px; text-align: center; border: 1px solid #ccc; background-color: #e6e6e6; color: black; font-weight: bold; border-radius: 5px;\">B</td><td style=\"width: 40px; height: 40px; text-align: center; border: 3px solid brown; background-color: #e6e6e6; color: red; font-weight: bold; border-radius: 5px;\">R</td><td style=\"width: 40px; height: 40px; text-align: center; border: 3px solid brown; background-color: #e6e6e6; color: gray; font-weight: bold; border-radius: 5px;\">N</td><td style=\"width: 40px; height: 40px; text-align: center; border: 3px solid brown; background-color: #e6e6e6; color: green; font-weight: bold; border-radius: 5px;\">V</td><td style=\"width: 40px; height: 40px; text-align: center; border: 1px solid #ccc; background-color: #e6e6e6; color: red; font-weight: bold; border-radius: 5px;\">R</td></tr><tr><td style=\"width: 40px; height: 40px; text-align: center; border: 1px solid #ccc; background-color: #e6e6e6; color: black; font-weight: bold; border-radius: 5px;\">B</td><td style=\"width: 40px; height: 40px; text-align: center; border: 3px solid brown; background-color: #e6e6e6; color: blue; font-weight: bold; border-radius: 5px;\">Z</td><td style=\"width: 40px; height: 40px; text-align: center; border: 3px solid brown; background-color: #ffffff; color: #f2f2f2; font-weight: bold; border-radius: 5px;\"></td><td style=\"width: 40px; height: 40px; text-align: center; border: 3px solid brown; background-color: #e6e6e6; color: red; font-weight: bold; border-radius: 5px;\">R</td><td style=\"width: 40px; height: 40px; text-align: center; border: 1px solid #ccc; background-color: #e6e6e6; color: gray; font-weight: bold; border-radius: 5px;\">N</td></tr><tr><td style=\"width: 40px; height: 40px; text-align: center; border: 1px solid #ccc; background-color: #e6e6e6; color: blue; font-weight: bold; border-radius: 5px;\">Z</td><td style=\"width: 40px; height: 40px; text-align: center; border: 3px solid brown; background-color: #e6e6e6; color: red; font-weight: bold; border-radius: 5px;\">R</td><td style=\"width: 40px; height: 40px; text-align: center; border: 3px solid brown; background-color: #e6e6e6; color: gray; font-weight: bold; border-radius: 5px;\">N</td><td style=\"width: 40px; height: 40px; text-align: center; border: 3px solid brown; background-color: #e6e6e6; color: orange; font-weight: bold; border-radius: 5px;\">A</td><td style=\"width: 40px; height: 40px; text-align: center; border: 1px solid #ccc; background-color: #e6e6e6; color: green; font-weight: bold; border-radius: 5px;\">V</td></tr><tr><td style=\"width: 40px; height: 40px; text-align: center; border: 1px solid #ccc; background-color: #e6e6e6; color: blue; font-weight: bold; border-radius: 5px;\">Z</td><td style=\"width: 40px; height: 40px; text-align: center; border: 1px solid #ccc; background-color: #e6e6e6; color: black; font-weight: bold; border-radius: 5px;\">B</td><td style=\"width: 40px; height: 40px; text-align: center; border: 1px solid #ccc; background-color: #e6e6e6; color: green; font-weight: bold; border-radius: 5px;\">V</td><td style=\"width: 40px; height: 40px; text-align: center; border: 1px solid #ccc; background-color: #e6e6e6; color: green; font-weight: bold; border-radius: 5px;\">V</td><td style=\"width: 40px; height: 40px; text-align: center; border: 1px solid #ccc; background-color: #e6e6e6; color: gray; font-weight: bold; border-radius: 5px;\">N</td></tr></table>"
            ]
          },
          "metadata": {}
        },
        {
          "output_type": "stream",
          "name": "stdout",
          "text": [
            "\n",
            "\n",
            "\n",
            "\n",
            "MOVIMIENTO# 1: Izquierda - Heurística: 7\n",
            "\n"
          ]
        },
        {
          "output_type": "display_data",
          "data": {
            "text/plain": [
              "<IPython.core.display.HTML object>"
            ],
            "text/html": [
              "<table style=\"border-collapse: collapse; font-size: 20px; background-color: #f2f2f2; border-radius: 10px; padding: 10px;\"><tr><td style=\"width: 40px; height: 40px; text-align: center; border: 1px solid #ccc; background-color: #e6e6e6; color: orange; font-weight: bold; border-radius: 5px;\">A</td><td style=\"width: 40px; height: 40px; text-align: center; border: 1px solid #ccc; background-color: #e6e6e6; color: black; font-weight: bold; border-radius: 5px;\">B</td><td style=\"width: 40px; height: 40px; text-align: center; border: 1px solid #ccc; background-color: #e6e6e6; color: blue; font-weight: bold; border-radius: 5px;\">Z</td><td style=\"width: 40px; height: 40px; text-align: center; border: 1px solid #ccc; background-color: #e6e6e6; color: orange; font-weight: bold; border-radius: 5px;\">A</td><td style=\"width: 40px; height: 40px; text-align: center; border: 1px solid #ccc; background-color: #e6e6e6; color: orange; font-weight: bold; border-radius: 5px;\">A</td></tr><tr><td style=\"width: 40px; height: 40px; text-align: center; border: 1px solid #ccc; background-color: #e6e6e6; color: black; font-weight: bold; border-radius: 5px;\">B</td><td style=\"width: 40px; height: 40px; text-align: center; border: 3px solid brown; background-color: #e6e6e6; color: red; font-weight: bold; border-radius: 5px;\">R</td><td style=\"width: 40px; height: 40px; text-align: center; border: 3px solid brown; background-color: #e6e6e6; color: gray; font-weight: bold; border-radius: 5px;\">N</td><td style=\"width: 40px; height: 40px; text-align: center; border: 3px solid brown; background-color: #e6e6e6; color: green; font-weight: bold; border-radius: 5px;\">V</td><td style=\"width: 40px; height: 40px; text-align: center; border: 1px solid #ccc; background-color: #e6e6e6; color: red; font-weight: bold; border-radius: 5px;\">R</td></tr><tr><td style=\"width: 40px; height: 40px; text-align: center; border: 1px solid #ccc; background-color: #e6e6e6; color: black; font-weight: bold; border-radius: 5px;\">B</td><td style=\"width: 40px; height: 40px; text-align: center; border: 3px solid brown; background-color: #e6e6e6; color: blue; font-weight: bold; border-radius: 5px;\">Z</td><td style=\"width: 40px; height: 40px; text-align: center; border: 3px solid brown; background-color: #e6e6e6; color: red; font-weight: bold; border-radius: 5px;\">R</td><td style=\"width: 40px; height: 40px; text-align: center; border: 3px solid brown; background-color: #ffffff; color: #f2f2f2; font-weight: bold; border-radius: 5px;\"></td><td style=\"width: 40px; height: 40px; text-align: center; border: 1px solid #ccc; background-color: #e6e6e6; color: gray; font-weight: bold; border-radius: 5px;\">N</td></tr><tr><td style=\"width: 40px; height: 40px; text-align: center; border: 1px solid #ccc; background-color: #e6e6e6; color: blue; font-weight: bold; border-radius: 5px;\">Z</td><td style=\"width: 40px; height: 40px; text-align: center; border: 3px solid brown; background-color: #e6e6e6; color: red; font-weight: bold; border-radius: 5px;\">R</td><td style=\"width: 40px; height: 40px; text-align: center; border: 3px solid brown; background-color: #e6e6e6; color: gray; font-weight: bold; border-radius: 5px;\">N</td><td style=\"width: 40px; height: 40px; text-align: center; border: 3px solid brown; background-color: #e6e6e6; color: orange; font-weight: bold; border-radius: 5px;\">A</td><td style=\"width: 40px; height: 40px; text-align: center; border: 1px solid #ccc; background-color: #e6e6e6; color: green; font-weight: bold; border-radius: 5px;\">V</td></tr><tr><td style=\"width: 40px; height: 40px; text-align: center; border: 1px solid #ccc; background-color: #e6e6e6; color: blue; font-weight: bold; border-radius: 5px;\">Z</td><td style=\"width: 40px; height: 40px; text-align: center; border: 1px solid #ccc; background-color: #e6e6e6; color: black; font-weight: bold; border-radius: 5px;\">B</td><td style=\"width: 40px; height: 40px; text-align: center; border: 1px solid #ccc; background-color: #e6e6e6; color: green; font-weight: bold; border-radius: 5px;\">V</td><td style=\"width: 40px; height: 40px; text-align: center; border: 1px solid #ccc; background-color: #e6e6e6; color: green; font-weight: bold; border-radius: 5px;\">V</td><td style=\"width: 40px; height: 40px; text-align: center; border: 1px solid #ccc; background-color: #e6e6e6; color: gray; font-weight: bold; border-radius: 5px;\">N</td></tr></table>"
            ]
          },
          "metadata": {}
        },
        {
          "output_type": "stream",
          "name": "stdout",
          "text": [
            "\n",
            "\n",
            "\n",
            "\n",
            "MOVIMIENTO# 2: Abajo - Heurística: 7\n",
            "\n"
          ]
        },
        {
          "output_type": "display_data",
          "data": {
            "text/plain": [
              "<IPython.core.display.HTML object>"
            ],
            "text/html": [
              "<table style=\"border-collapse: collapse; font-size: 20px; background-color: #f2f2f2; border-radius: 10px; padding: 10px;\"><tr><td style=\"width: 40px; height: 40px; text-align: center; border: 1px solid #ccc; background-color: #e6e6e6; color: orange; font-weight: bold; border-radius: 5px;\">A</td><td style=\"width: 40px; height: 40px; text-align: center; border: 1px solid #ccc; background-color: #e6e6e6; color: black; font-weight: bold; border-radius: 5px;\">B</td><td style=\"width: 40px; height: 40px; text-align: center; border: 1px solid #ccc; background-color: #e6e6e6; color: blue; font-weight: bold; border-radius: 5px;\">Z</td><td style=\"width: 40px; height: 40px; text-align: center; border: 1px solid #ccc; background-color: #e6e6e6; color: orange; font-weight: bold; border-radius: 5px;\">A</td><td style=\"width: 40px; height: 40px; text-align: center; border: 1px solid #ccc; background-color: #e6e6e6; color: orange; font-weight: bold; border-radius: 5px;\">A</td></tr><tr><td style=\"width: 40px; height: 40px; text-align: center; border: 1px solid #ccc; background-color: #e6e6e6; color: black; font-weight: bold; border-radius: 5px;\">B</td><td style=\"width: 40px; height: 40px; text-align: center; border: 3px solid brown; background-color: #e6e6e6; color: red; font-weight: bold; border-radius: 5px;\">R</td><td style=\"width: 40px; height: 40px; text-align: center; border: 3px solid brown; background-color: #e6e6e6; color: gray; font-weight: bold; border-radius: 5px;\">N</td><td style=\"width: 40px; height: 40px; text-align: center; border: 3px solid brown; background-color: #ffffff; color: #f2f2f2; font-weight: bold; border-radius: 5px;\"></td><td style=\"width: 40px; height: 40px; text-align: center; border: 1px solid #ccc; background-color: #e6e6e6; color: red; font-weight: bold; border-radius: 5px;\">R</td></tr><tr><td style=\"width: 40px; height: 40px; text-align: center; border: 1px solid #ccc; background-color: #e6e6e6; color: black; font-weight: bold; border-radius: 5px;\">B</td><td style=\"width: 40px; height: 40px; text-align: center; border: 3px solid brown; background-color: #e6e6e6; color: blue; font-weight: bold; border-radius: 5px;\">Z</td><td style=\"width: 40px; height: 40px; text-align: center; border: 3px solid brown; background-color: #e6e6e6; color: red; font-weight: bold; border-radius: 5px;\">R</td><td style=\"width: 40px; height: 40px; text-align: center; border: 3px solid brown; background-color: #e6e6e6; color: green; font-weight: bold; border-radius: 5px;\">V</td><td style=\"width: 40px; height: 40px; text-align: center; border: 1px solid #ccc; background-color: #e6e6e6; color: gray; font-weight: bold; border-radius: 5px;\">N</td></tr><tr><td style=\"width: 40px; height: 40px; text-align: center; border: 1px solid #ccc; background-color: #e6e6e6; color: blue; font-weight: bold; border-radius: 5px;\">Z</td><td style=\"width: 40px; height: 40px; text-align: center; border: 3px solid brown; background-color: #e6e6e6; color: red; font-weight: bold; border-radius: 5px;\">R</td><td style=\"width: 40px; height: 40px; text-align: center; border: 3px solid brown; background-color: #e6e6e6; color: gray; font-weight: bold; border-radius: 5px;\">N</td><td style=\"width: 40px; height: 40px; text-align: center; border: 3px solid brown; background-color: #e6e6e6; color: orange; font-weight: bold; border-radius: 5px;\">A</td><td style=\"width: 40px; height: 40px; text-align: center; border: 1px solid #ccc; background-color: #e6e6e6; color: green; font-weight: bold; border-radius: 5px;\">V</td></tr><tr><td style=\"width: 40px; height: 40px; text-align: center; border: 1px solid #ccc; background-color: #e6e6e6; color: blue; font-weight: bold; border-radius: 5px;\">Z</td><td style=\"width: 40px; height: 40px; text-align: center; border: 1px solid #ccc; background-color: #e6e6e6; color: black; font-weight: bold; border-radius: 5px;\">B</td><td style=\"width: 40px; height: 40px; text-align: center; border: 1px solid #ccc; background-color: #e6e6e6; color: green; font-weight: bold; border-radius: 5px;\">V</td><td style=\"width: 40px; height: 40px; text-align: center; border: 1px solid #ccc; background-color: #e6e6e6; color: green; font-weight: bold; border-radius: 5px;\">V</td><td style=\"width: 40px; height: 40px; text-align: center; border: 1px solid #ccc; background-color: #e6e6e6; color: gray; font-weight: bold; border-radius: 5px;\">N</td></tr></table>"
            ]
          },
          "metadata": {}
        },
        {
          "output_type": "stream",
          "name": "stdout",
          "text": [
            "\n",
            "\n",
            "\n",
            "\n",
            "MOVIMIENTO# 3: Abajo - Heurística: 7\n",
            "\n"
          ]
        },
        {
          "output_type": "display_data",
          "data": {
            "text/plain": [
              "<IPython.core.display.HTML object>"
            ],
            "text/html": [
              "<table style=\"border-collapse: collapse; font-size: 20px; background-color: #f2f2f2; border-radius: 10px; padding: 10px;\"><tr><td style=\"width: 40px; height: 40px; text-align: center; border: 1px solid #ccc; background-color: #e6e6e6; color: orange; font-weight: bold; border-radius: 5px;\">A</td><td style=\"width: 40px; height: 40px; text-align: center; border: 1px solid #ccc; background-color: #e6e6e6; color: black; font-weight: bold; border-radius: 5px;\">B</td><td style=\"width: 40px; height: 40px; text-align: center; border: 1px solid #ccc; background-color: #e6e6e6; color: blue; font-weight: bold; border-radius: 5px;\">Z</td><td style=\"width: 40px; height: 40px; text-align: center; border: 1px solid #ccc; background-color: #ffffff; color: #f2f2f2; font-weight: bold; border-radius: 5px;\"></td><td style=\"width: 40px; height: 40px; text-align: center; border: 1px solid #ccc; background-color: #e6e6e6; color: orange; font-weight: bold; border-radius: 5px;\">A</td></tr><tr><td style=\"width: 40px; height: 40px; text-align: center; border: 1px solid #ccc; background-color: #e6e6e6; color: black; font-weight: bold; border-radius: 5px;\">B</td><td style=\"width: 40px; height: 40px; text-align: center; border: 3px solid brown; background-color: #e6e6e6; color: red; font-weight: bold; border-radius: 5px;\">R</td><td style=\"width: 40px; height: 40px; text-align: center; border: 3px solid brown; background-color: #e6e6e6; color: gray; font-weight: bold; border-radius: 5px;\">N</td><td style=\"width: 40px; height: 40px; text-align: center; border: 3px solid brown; background-color: #e6e6e6; color: orange; font-weight: bold; border-radius: 5px;\">A</td><td style=\"width: 40px; height: 40px; text-align: center; border: 1px solid #ccc; background-color: #e6e6e6; color: red; font-weight: bold; border-radius: 5px;\">R</td></tr><tr><td style=\"width: 40px; height: 40px; text-align: center; border: 1px solid #ccc; background-color: #e6e6e6; color: black; font-weight: bold; border-radius: 5px;\">B</td><td style=\"width: 40px; height: 40px; text-align: center; border: 3px solid brown; background-color: #e6e6e6; color: blue; font-weight: bold; border-radius: 5px;\">Z</td><td style=\"width: 40px; height: 40px; text-align: center; border: 3px solid brown; background-color: #e6e6e6; color: red; font-weight: bold; border-radius: 5px;\">R</td><td style=\"width: 40px; height: 40px; text-align: center; border: 3px solid brown; background-color: #e6e6e6; color: green; font-weight: bold; border-radius: 5px;\">V</td><td style=\"width: 40px; height: 40px; text-align: center; border: 1px solid #ccc; background-color: #e6e6e6; color: gray; font-weight: bold; border-radius: 5px;\">N</td></tr><tr><td style=\"width: 40px; height: 40px; text-align: center; border: 1px solid #ccc; background-color: #e6e6e6; color: blue; font-weight: bold; border-radius: 5px;\">Z</td><td style=\"width: 40px; height: 40px; text-align: center; border: 3px solid brown; background-color: #e6e6e6; color: red; font-weight: bold; border-radius: 5px;\">R</td><td style=\"width: 40px; height: 40px; text-align: center; border: 3px solid brown; background-color: #e6e6e6; color: gray; font-weight: bold; border-radius: 5px;\">N</td><td style=\"width: 40px; height: 40px; text-align: center; border: 3px solid brown; background-color: #e6e6e6; color: orange; font-weight: bold; border-radius: 5px;\">A</td><td style=\"width: 40px; height: 40px; text-align: center; border: 1px solid #ccc; background-color: #e6e6e6; color: green; font-weight: bold; border-radius: 5px;\">V</td></tr><tr><td style=\"width: 40px; height: 40px; text-align: center; border: 1px solid #ccc; background-color: #e6e6e6; color: blue; font-weight: bold; border-radius: 5px;\">Z</td><td style=\"width: 40px; height: 40px; text-align: center; border: 1px solid #ccc; background-color: #e6e6e6; color: black; font-weight: bold; border-radius: 5px;\">B</td><td style=\"width: 40px; height: 40px; text-align: center; border: 1px solid #ccc; background-color: #e6e6e6; color: green; font-weight: bold; border-radius: 5px;\">V</td><td style=\"width: 40px; height: 40px; text-align: center; border: 1px solid #ccc; background-color: #e6e6e6; color: green; font-weight: bold; border-radius: 5px;\">V</td><td style=\"width: 40px; height: 40px; text-align: center; border: 1px solid #ccc; background-color: #e6e6e6; color: gray; font-weight: bold; border-radius: 5px;\">N</td></tr></table>"
            ]
          },
          "metadata": {}
        },
        {
          "output_type": "stream",
          "name": "stdout",
          "text": [
            "\n",
            "\n",
            "\n",
            "\n",
            "MOVIMIENTO# 4: Derecha - Heurística: 7\n",
            "\n"
          ]
        },
        {
          "output_type": "display_data",
          "data": {
            "text/plain": [
              "<IPython.core.display.HTML object>"
            ],
            "text/html": [
              "<table style=\"border-collapse: collapse; font-size: 20px; background-color: #f2f2f2; border-radius: 10px; padding: 10px;\"><tr><td style=\"width: 40px; height: 40px; text-align: center; border: 1px solid #ccc; background-color: #e6e6e6; color: orange; font-weight: bold; border-radius: 5px;\">A</td><td style=\"width: 40px; height: 40px; text-align: center; border: 1px solid #ccc; background-color: #e6e6e6; color: black; font-weight: bold; border-radius: 5px;\">B</td><td style=\"width: 40px; height: 40px; text-align: center; border: 1px solid #ccc; background-color: #ffffff; color: #f2f2f2; font-weight: bold; border-radius: 5px;\"></td><td style=\"width: 40px; height: 40px; text-align: center; border: 1px solid #ccc; background-color: #e6e6e6; color: blue; font-weight: bold; border-radius: 5px;\">Z</td><td style=\"width: 40px; height: 40px; text-align: center; border: 1px solid #ccc; background-color: #e6e6e6; color: orange; font-weight: bold; border-radius: 5px;\">A</td></tr><tr><td style=\"width: 40px; height: 40px; text-align: center; border: 1px solid #ccc; background-color: #e6e6e6; color: black; font-weight: bold; border-radius: 5px;\">B</td><td style=\"width: 40px; height: 40px; text-align: center; border: 3px solid brown; background-color: #e6e6e6; color: red; font-weight: bold; border-radius: 5px;\">R</td><td style=\"width: 40px; height: 40px; text-align: center; border: 3px solid brown; background-color: #e6e6e6; color: gray; font-weight: bold; border-radius: 5px;\">N</td><td style=\"width: 40px; height: 40px; text-align: center; border: 3px solid brown; background-color: #e6e6e6; color: orange; font-weight: bold; border-radius: 5px;\">A</td><td style=\"width: 40px; height: 40px; text-align: center; border: 1px solid #ccc; background-color: #e6e6e6; color: red; font-weight: bold; border-radius: 5px;\">R</td></tr><tr><td style=\"width: 40px; height: 40px; text-align: center; border: 1px solid #ccc; background-color: #e6e6e6; color: black; font-weight: bold; border-radius: 5px;\">B</td><td style=\"width: 40px; height: 40px; text-align: center; border: 3px solid brown; background-color: #e6e6e6; color: blue; font-weight: bold; border-radius: 5px;\">Z</td><td style=\"width: 40px; height: 40px; text-align: center; border: 3px solid brown; background-color: #e6e6e6; color: red; font-weight: bold; border-radius: 5px;\">R</td><td style=\"width: 40px; height: 40px; text-align: center; border: 3px solid brown; background-color: #e6e6e6; color: green; font-weight: bold; border-radius: 5px;\">V</td><td style=\"width: 40px; height: 40px; text-align: center; border: 1px solid #ccc; background-color: #e6e6e6; color: gray; font-weight: bold; border-radius: 5px;\">N</td></tr><tr><td style=\"width: 40px; height: 40px; text-align: center; border: 1px solid #ccc; background-color: #e6e6e6; color: blue; font-weight: bold; border-radius: 5px;\">Z</td><td style=\"width: 40px; height: 40px; text-align: center; border: 3px solid brown; background-color: #e6e6e6; color: red; font-weight: bold; border-radius: 5px;\">R</td><td style=\"width: 40px; height: 40px; text-align: center; border: 3px solid brown; background-color: #e6e6e6; color: gray; font-weight: bold; border-radius: 5px;\">N</td><td style=\"width: 40px; height: 40px; text-align: center; border: 3px solid brown; background-color: #e6e6e6; color: orange; font-weight: bold; border-radius: 5px;\">A</td><td style=\"width: 40px; height: 40px; text-align: center; border: 1px solid #ccc; background-color: #e6e6e6; color: green; font-weight: bold; border-radius: 5px;\">V</td></tr><tr><td style=\"width: 40px; height: 40px; text-align: center; border: 1px solid #ccc; background-color: #e6e6e6; color: blue; font-weight: bold; border-radius: 5px;\">Z</td><td style=\"width: 40px; height: 40px; text-align: center; border: 1px solid #ccc; background-color: #e6e6e6; color: black; font-weight: bold; border-radius: 5px;\">B</td><td style=\"width: 40px; height: 40px; text-align: center; border: 1px solid #ccc; background-color: #e6e6e6; color: green; font-weight: bold; border-radius: 5px;\">V</td><td style=\"width: 40px; height: 40px; text-align: center; border: 1px solid #ccc; background-color: #e6e6e6; color: green; font-weight: bold; border-radius: 5px;\">V</td><td style=\"width: 40px; height: 40px; text-align: center; border: 1px solid #ccc; background-color: #e6e6e6; color: gray; font-weight: bold; border-radius: 5px;\">N</td></tr></table>"
            ]
          },
          "metadata": {}
        },
        {
          "output_type": "stream",
          "name": "stdout",
          "text": [
            "\n",
            "\n",
            "\n",
            "\n",
            "MOVIMIENTO# 5: Arriba - Heurística: 7\n",
            "\n"
          ]
        },
        {
          "output_type": "display_data",
          "data": {
            "text/plain": [
              "<IPython.core.display.HTML object>"
            ],
            "text/html": [
              "<table style=\"border-collapse: collapse; font-size: 20px; background-color: #f2f2f2; border-radius: 10px; padding: 10px;\"><tr><td style=\"width: 40px; height: 40px; text-align: center; border: 1px solid #ccc; background-color: #e6e6e6; color: orange; font-weight: bold; border-radius: 5px;\">A</td><td style=\"width: 40px; height: 40px; text-align: center; border: 1px solid #ccc; background-color: #e6e6e6; color: black; font-weight: bold; border-radius: 5px;\">B</td><td style=\"width: 40px; height: 40px; text-align: center; border: 1px solid #ccc; background-color: #e6e6e6; color: gray; font-weight: bold; border-radius: 5px;\">N</td><td style=\"width: 40px; height: 40px; text-align: center; border: 1px solid #ccc; background-color: #e6e6e6; color: blue; font-weight: bold; border-radius: 5px;\">Z</td><td style=\"width: 40px; height: 40px; text-align: center; border: 1px solid #ccc; background-color: #e6e6e6; color: orange; font-weight: bold; border-radius: 5px;\">A</td></tr><tr><td style=\"width: 40px; height: 40px; text-align: center; border: 1px solid #ccc; background-color: #e6e6e6; color: black; font-weight: bold; border-radius: 5px;\">B</td><td style=\"width: 40px; height: 40px; text-align: center; border: 3px solid brown; background-color: #e6e6e6; color: red; font-weight: bold; border-radius: 5px;\">R</td><td style=\"width: 40px; height: 40px; text-align: center; border: 3px solid brown; background-color: #ffffff; color: #f2f2f2; font-weight: bold; border-radius: 5px;\"></td><td style=\"width: 40px; height: 40px; text-align: center; border: 3px solid brown; background-color: #e6e6e6; color: orange; font-weight: bold; border-radius: 5px;\">A</td><td style=\"width: 40px; height: 40px; text-align: center; border: 1px solid #ccc; background-color: #e6e6e6; color: red; font-weight: bold; border-radius: 5px;\">R</td></tr><tr><td style=\"width: 40px; height: 40px; text-align: center; border: 1px solid #ccc; background-color: #e6e6e6; color: black; font-weight: bold; border-radius: 5px;\">B</td><td style=\"width: 40px; height: 40px; text-align: center; border: 3px solid brown; background-color: #e6e6e6; color: blue; font-weight: bold; border-radius: 5px;\">Z</td><td style=\"width: 40px; height: 40px; text-align: center; border: 3px solid brown; background-color: #e6e6e6; color: red; font-weight: bold; border-radius: 5px;\">R</td><td style=\"width: 40px; height: 40px; text-align: center; border: 3px solid brown; background-color: #e6e6e6; color: green; font-weight: bold; border-radius: 5px;\">V</td><td style=\"width: 40px; height: 40px; text-align: center; border: 1px solid #ccc; background-color: #e6e6e6; color: gray; font-weight: bold; border-radius: 5px;\">N</td></tr><tr><td style=\"width: 40px; height: 40px; text-align: center; border: 1px solid #ccc; background-color: #e6e6e6; color: blue; font-weight: bold; border-radius: 5px;\">Z</td><td style=\"width: 40px; height: 40px; text-align: center; border: 3px solid brown; background-color: #e6e6e6; color: red; font-weight: bold; border-radius: 5px;\">R</td><td style=\"width: 40px; height: 40px; text-align: center; border: 3px solid brown; background-color: #e6e6e6; color: gray; font-weight: bold; border-radius: 5px;\">N</td><td style=\"width: 40px; height: 40px; text-align: center; border: 3px solid brown; background-color: #e6e6e6; color: orange; font-weight: bold; border-radius: 5px;\">A</td><td style=\"width: 40px; height: 40px; text-align: center; border: 1px solid #ccc; background-color: #e6e6e6; color: green; font-weight: bold; border-radius: 5px;\">V</td></tr><tr><td style=\"width: 40px; height: 40px; text-align: center; border: 1px solid #ccc; background-color: #e6e6e6; color: blue; font-weight: bold; border-radius: 5px;\">Z</td><td style=\"width: 40px; height: 40px; text-align: center; border: 1px solid #ccc; background-color: #e6e6e6; color: black; font-weight: bold; border-radius: 5px;\">B</td><td style=\"width: 40px; height: 40px; text-align: center; border: 1px solid #ccc; background-color: #e6e6e6; color: green; font-weight: bold; border-radius: 5px;\">V</td><td style=\"width: 40px; height: 40px; text-align: center; border: 1px solid #ccc; background-color: #e6e6e6; color: green; font-weight: bold; border-radius: 5px;\">V</td><td style=\"width: 40px; height: 40px; text-align: center; border: 1px solid #ccc; background-color: #e6e6e6; color: gray; font-weight: bold; border-radius: 5px;\">N</td></tr></table>"
            ]
          },
          "metadata": {}
        },
        {
          "output_type": "stream",
          "name": "stdout",
          "text": [
            "\n",
            "\n",
            "\n",
            "\n",
            "MOVIMIENTO# 6: Derecha - Heurística: 7\n",
            "\n"
          ]
        },
        {
          "output_type": "display_data",
          "data": {
            "text/plain": [
              "<IPython.core.display.HTML object>"
            ],
            "text/html": [
              "<table style=\"border-collapse: collapse; font-size: 20px; background-color: #f2f2f2; border-radius: 10px; padding: 10px;\"><tr><td style=\"width: 40px; height: 40px; text-align: center; border: 1px solid #ccc; background-color: #e6e6e6; color: orange; font-weight: bold; border-radius: 5px;\">A</td><td style=\"width: 40px; height: 40px; text-align: center; border: 1px solid #ccc; background-color: #e6e6e6; color: black; font-weight: bold; border-radius: 5px;\">B</td><td style=\"width: 40px; height: 40px; text-align: center; border: 1px solid #ccc; background-color: #e6e6e6; color: gray; font-weight: bold; border-radius: 5px;\">N</td><td style=\"width: 40px; height: 40px; text-align: center; border: 1px solid #ccc; background-color: #e6e6e6; color: blue; font-weight: bold; border-radius: 5px;\">Z</td><td style=\"width: 40px; height: 40px; text-align: center; border: 1px solid #ccc; background-color: #e6e6e6; color: orange; font-weight: bold; border-radius: 5px;\">A</td></tr><tr><td style=\"width: 40px; height: 40px; text-align: center; border: 1px solid #ccc; background-color: #e6e6e6; color: black; font-weight: bold; border-radius: 5px;\">B</td><td style=\"width: 40px; height: 40px; text-align: center; border: 3px solid brown; background-color: #ffffff; color: #f2f2f2; font-weight: bold; border-radius: 5px;\"></td><td style=\"width: 40px; height: 40px; text-align: center; border: 3px solid brown; background-color: #e6e6e6; color: red; font-weight: bold; border-radius: 5px;\">R</td><td style=\"width: 40px; height: 40px; text-align: center; border: 3px solid brown; background-color: #e6e6e6; color: orange; font-weight: bold; border-radius: 5px;\">A</td><td style=\"width: 40px; height: 40px; text-align: center; border: 1px solid #ccc; background-color: #e6e6e6; color: red; font-weight: bold; border-radius: 5px;\">R</td></tr><tr><td style=\"width: 40px; height: 40px; text-align: center; border: 1px solid #ccc; background-color: #e6e6e6; color: black; font-weight: bold; border-radius: 5px;\">B</td><td style=\"width: 40px; height: 40px; text-align: center; border: 3px solid brown; background-color: #e6e6e6; color: blue; font-weight: bold; border-radius: 5px;\">Z</td><td style=\"width: 40px; height: 40px; text-align: center; border: 3px solid brown; background-color: #e6e6e6; color: red; font-weight: bold; border-radius: 5px;\">R</td><td style=\"width: 40px; height: 40px; text-align: center; border: 3px solid brown; background-color: #e6e6e6; color: green; font-weight: bold; border-radius: 5px;\">V</td><td style=\"width: 40px; height: 40px; text-align: center; border: 1px solid #ccc; background-color: #e6e6e6; color: gray; font-weight: bold; border-radius: 5px;\">N</td></tr><tr><td style=\"width: 40px; height: 40px; text-align: center; border: 1px solid #ccc; background-color: #e6e6e6; color: blue; font-weight: bold; border-radius: 5px;\">Z</td><td style=\"width: 40px; height: 40px; text-align: center; border: 3px solid brown; background-color: #e6e6e6; color: red; font-weight: bold; border-radius: 5px;\">R</td><td style=\"width: 40px; height: 40px; text-align: center; border: 3px solid brown; background-color: #e6e6e6; color: gray; font-weight: bold; border-radius: 5px;\">N</td><td style=\"width: 40px; height: 40px; text-align: center; border: 3px solid brown; background-color: #e6e6e6; color: orange; font-weight: bold; border-radius: 5px;\">A</td><td style=\"width: 40px; height: 40px; text-align: center; border: 1px solid #ccc; background-color: #e6e6e6; color: green; font-weight: bold; border-radius: 5px;\">V</td></tr><tr><td style=\"width: 40px; height: 40px; text-align: center; border: 1px solid #ccc; background-color: #e6e6e6; color: blue; font-weight: bold; border-radius: 5px;\">Z</td><td style=\"width: 40px; height: 40px; text-align: center; border: 1px solid #ccc; background-color: #e6e6e6; color: black; font-weight: bold; border-radius: 5px;\">B</td><td style=\"width: 40px; height: 40px; text-align: center; border: 1px solid #ccc; background-color: #e6e6e6; color: green; font-weight: bold; border-radius: 5px;\">V</td><td style=\"width: 40px; height: 40px; text-align: center; border: 1px solid #ccc; background-color: #e6e6e6; color: green; font-weight: bold; border-radius: 5px;\">V</td><td style=\"width: 40px; height: 40px; text-align: center; border: 1px solid #ccc; background-color: #e6e6e6; color: gray; font-weight: bold; border-radius: 5px;\">N</td></tr></table>"
            ]
          },
          "metadata": {}
        },
        {
          "output_type": "stream",
          "name": "stdout",
          "text": [
            "\n",
            "\n",
            "\n",
            "\n",
            "MOVIMIENTO# 7: Abajo - Heurística: 6\n",
            "\n"
          ]
        },
        {
          "output_type": "display_data",
          "data": {
            "text/plain": [
              "<IPython.core.display.HTML object>"
            ],
            "text/html": [
              "<table style=\"border-collapse: collapse; font-size: 20px; background-color: #f2f2f2; border-radius: 10px; padding: 10px;\"><tr><td style=\"width: 40px; height: 40px; text-align: center; border: 1px solid #ccc; background-color: #e6e6e6; color: orange; font-weight: bold; border-radius: 5px;\">A</td><td style=\"width: 40px; height: 40px; text-align: center; border: 1px solid #ccc; background-color: #ffffff; color: #f2f2f2; font-weight: bold; border-radius: 5px;\"></td><td style=\"width: 40px; height: 40px; text-align: center; border: 1px solid #ccc; background-color: #e6e6e6; color: gray; font-weight: bold; border-radius: 5px;\">N</td><td style=\"width: 40px; height: 40px; text-align: center; border: 1px solid #ccc; background-color: #e6e6e6; color: blue; font-weight: bold; border-radius: 5px;\">Z</td><td style=\"width: 40px; height: 40px; text-align: center; border: 1px solid #ccc; background-color: #e6e6e6; color: orange; font-weight: bold; border-radius: 5px;\">A</td></tr><tr><td style=\"width: 40px; height: 40px; text-align: center; border: 1px solid #ccc; background-color: #e6e6e6; color: black; font-weight: bold; border-radius: 5px;\">B</td><td style=\"width: 40px; height: 40px; text-align: center; border: 3px solid brown; background-color: #e6e6e6; color: black; font-weight: bold; border-radius: 5px;\">B</td><td style=\"width: 40px; height: 40px; text-align: center; border: 3px solid brown; background-color: #e6e6e6; color: red; font-weight: bold; border-radius: 5px;\">R</td><td style=\"width: 40px; height: 40px; text-align: center; border: 3px solid brown; background-color: #e6e6e6; color: orange; font-weight: bold; border-radius: 5px;\">A</td><td style=\"width: 40px; height: 40px; text-align: center; border: 1px solid #ccc; background-color: #e6e6e6; color: red; font-weight: bold; border-radius: 5px;\">R</td></tr><tr><td style=\"width: 40px; height: 40px; text-align: center; border: 1px solid #ccc; background-color: #e6e6e6; color: black; font-weight: bold; border-radius: 5px;\">B</td><td style=\"width: 40px; height: 40px; text-align: center; border: 3px solid brown; background-color: #e6e6e6; color: blue; font-weight: bold; border-radius: 5px;\">Z</td><td style=\"width: 40px; height: 40px; text-align: center; border: 3px solid brown; background-color: #e6e6e6; color: red; font-weight: bold; border-radius: 5px;\">R</td><td style=\"width: 40px; height: 40px; text-align: center; border: 3px solid brown; background-color: #e6e6e6; color: green; font-weight: bold; border-radius: 5px;\">V</td><td style=\"width: 40px; height: 40px; text-align: center; border: 1px solid #ccc; background-color: #e6e6e6; color: gray; font-weight: bold; border-radius: 5px;\">N</td></tr><tr><td style=\"width: 40px; height: 40px; text-align: center; border: 1px solid #ccc; background-color: #e6e6e6; color: blue; font-weight: bold; border-radius: 5px;\">Z</td><td style=\"width: 40px; height: 40px; text-align: center; border: 3px solid brown; background-color: #e6e6e6; color: red; font-weight: bold; border-radius: 5px;\">R</td><td style=\"width: 40px; height: 40px; text-align: center; border: 3px solid brown; background-color: #e6e6e6; color: gray; font-weight: bold; border-radius: 5px;\">N</td><td style=\"width: 40px; height: 40px; text-align: center; border: 3px solid brown; background-color: #e6e6e6; color: orange; font-weight: bold; border-radius: 5px;\">A</td><td style=\"width: 40px; height: 40px; text-align: center; border: 1px solid #ccc; background-color: #e6e6e6; color: green; font-weight: bold; border-radius: 5px;\">V</td></tr><tr><td style=\"width: 40px; height: 40px; text-align: center; border: 1px solid #ccc; background-color: #e6e6e6; color: blue; font-weight: bold; border-radius: 5px;\">Z</td><td style=\"width: 40px; height: 40px; text-align: center; border: 1px solid #ccc; background-color: #e6e6e6; color: black; font-weight: bold; border-radius: 5px;\">B</td><td style=\"width: 40px; height: 40px; text-align: center; border: 1px solid #ccc; background-color: #e6e6e6; color: green; font-weight: bold; border-radius: 5px;\">V</td><td style=\"width: 40px; height: 40px; text-align: center; border: 1px solid #ccc; background-color: #e6e6e6; color: green; font-weight: bold; border-radius: 5px;\">V</td><td style=\"width: 40px; height: 40px; text-align: center; border: 1px solid #ccc; background-color: #e6e6e6; color: gray; font-weight: bold; border-radius: 5px;\">N</td></tr></table>"
            ]
          },
          "metadata": {}
        },
        {
          "output_type": "stream",
          "name": "stdout",
          "text": [
            "\n",
            "\n",
            "\n",
            "\n",
            "MOVIMIENTO# 8: Izquierda - Heurística: 6\n",
            "\n"
          ]
        },
        {
          "output_type": "display_data",
          "data": {
            "text/plain": [
              "<IPython.core.display.HTML object>"
            ],
            "text/html": [
              "<table style=\"border-collapse: collapse; font-size: 20px; background-color: #f2f2f2; border-radius: 10px; padding: 10px;\"><tr><td style=\"width: 40px; height: 40px; text-align: center; border: 1px solid #ccc; background-color: #e6e6e6; color: orange; font-weight: bold; border-radius: 5px;\">A</td><td style=\"width: 40px; height: 40px; text-align: center; border: 1px solid #ccc; background-color: #e6e6e6; color: gray; font-weight: bold; border-radius: 5px;\">N</td><td style=\"width: 40px; height: 40px; text-align: center; border: 1px solid #ccc; background-color: #ffffff; color: #f2f2f2; font-weight: bold; border-radius: 5px;\"></td><td style=\"width: 40px; height: 40px; text-align: center; border: 1px solid #ccc; background-color: #e6e6e6; color: blue; font-weight: bold; border-radius: 5px;\">Z</td><td style=\"width: 40px; height: 40px; text-align: center; border: 1px solid #ccc; background-color: #e6e6e6; color: orange; font-weight: bold; border-radius: 5px;\">A</td></tr><tr><td style=\"width: 40px; height: 40px; text-align: center; border: 1px solid #ccc; background-color: #e6e6e6; color: black; font-weight: bold; border-radius: 5px;\">B</td><td style=\"width: 40px; height: 40px; text-align: center; border: 3px solid brown; background-color: #e6e6e6; color: black; font-weight: bold; border-radius: 5px;\">B</td><td style=\"width: 40px; height: 40px; text-align: center; border: 3px solid brown; background-color: #e6e6e6; color: red; font-weight: bold; border-radius: 5px;\">R</td><td style=\"width: 40px; height: 40px; text-align: center; border: 3px solid brown; background-color: #e6e6e6; color: orange; font-weight: bold; border-radius: 5px;\">A</td><td style=\"width: 40px; height: 40px; text-align: center; border: 1px solid #ccc; background-color: #e6e6e6; color: red; font-weight: bold; border-radius: 5px;\">R</td></tr><tr><td style=\"width: 40px; height: 40px; text-align: center; border: 1px solid #ccc; background-color: #e6e6e6; color: black; font-weight: bold; border-radius: 5px;\">B</td><td style=\"width: 40px; height: 40px; text-align: center; border: 3px solid brown; background-color: #e6e6e6; color: blue; font-weight: bold; border-radius: 5px;\">Z</td><td style=\"width: 40px; height: 40px; text-align: center; border: 3px solid brown; background-color: #e6e6e6; color: red; font-weight: bold; border-radius: 5px;\">R</td><td style=\"width: 40px; height: 40px; text-align: center; border: 3px solid brown; background-color: #e6e6e6; color: green; font-weight: bold; border-radius: 5px;\">V</td><td style=\"width: 40px; height: 40px; text-align: center; border: 1px solid #ccc; background-color: #e6e6e6; color: gray; font-weight: bold; border-radius: 5px;\">N</td></tr><tr><td style=\"width: 40px; height: 40px; text-align: center; border: 1px solid #ccc; background-color: #e6e6e6; color: blue; font-weight: bold; border-radius: 5px;\">Z</td><td style=\"width: 40px; height: 40px; text-align: center; border: 3px solid brown; background-color: #e6e6e6; color: red; font-weight: bold; border-radius: 5px;\">R</td><td style=\"width: 40px; height: 40px; text-align: center; border: 3px solid brown; background-color: #e6e6e6; color: gray; font-weight: bold; border-radius: 5px;\">N</td><td style=\"width: 40px; height: 40px; text-align: center; border: 3px solid brown; background-color: #e6e6e6; color: orange; font-weight: bold; border-radius: 5px;\">A</td><td style=\"width: 40px; height: 40px; text-align: center; border: 1px solid #ccc; background-color: #e6e6e6; color: green; font-weight: bold; border-radius: 5px;\">V</td></tr><tr><td style=\"width: 40px; height: 40px; text-align: center; border: 1px solid #ccc; background-color: #e6e6e6; color: blue; font-weight: bold; border-radius: 5px;\">Z</td><td style=\"width: 40px; height: 40px; text-align: center; border: 1px solid #ccc; background-color: #e6e6e6; color: black; font-weight: bold; border-radius: 5px;\">B</td><td style=\"width: 40px; height: 40px; text-align: center; border: 1px solid #ccc; background-color: #e6e6e6; color: green; font-weight: bold; border-radius: 5px;\">V</td><td style=\"width: 40px; height: 40px; text-align: center; border: 1px solid #ccc; background-color: #e6e6e6; color: green; font-weight: bold; border-radius: 5px;\">V</td><td style=\"width: 40px; height: 40px; text-align: center; border: 1px solid #ccc; background-color: #e6e6e6; color: gray; font-weight: bold; border-radius: 5px;\">N</td></tr></table>"
            ]
          },
          "metadata": {}
        },
        {
          "output_type": "stream",
          "name": "stdout",
          "text": [
            "\n",
            "\n",
            "\n",
            "\n",
            "MOVIMIENTO# 9: Arriba - Heurística: 6\n",
            "\n"
          ]
        },
        {
          "output_type": "display_data",
          "data": {
            "text/plain": [
              "<IPython.core.display.HTML object>"
            ],
            "text/html": [
              "<table style=\"border-collapse: collapse; font-size: 20px; background-color: #f2f2f2; border-radius: 10px; padding: 10px;\"><tr><td style=\"width: 40px; height: 40px; text-align: center; border: 1px solid #ccc; background-color: #e6e6e6; color: orange; font-weight: bold; border-radius: 5px;\">A</td><td style=\"width: 40px; height: 40px; text-align: center; border: 1px solid #ccc; background-color: #e6e6e6; color: gray; font-weight: bold; border-radius: 5px;\">N</td><td style=\"width: 40px; height: 40px; text-align: center; border: 1px solid #ccc; background-color: #e6e6e6; color: red; font-weight: bold; border-radius: 5px;\">R</td><td style=\"width: 40px; height: 40px; text-align: center; border: 1px solid #ccc; background-color: #e6e6e6; color: blue; font-weight: bold; border-radius: 5px;\">Z</td><td style=\"width: 40px; height: 40px; text-align: center; border: 1px solid #ccc; background-color: #e6e6e6; color: orange; font-weight: bold; border-radius: 5px;\">A</td></tr><tr><td style=\"width: 40px; height: 40px; text-align: center; border: 1px solid #ccc; background-color: #e6e6e6; color: black; font-weight: bold; border-radius: 5px;\">B</td><td style=\"width: 40px; height: 40px; text-align: center; border: 3px solid brown; background-color: #e6e6e6; color: black; font-weight: bold; border-radius: 5px;\">B</td><td style=\"width: 40px; height: 40px; text-align: center; border: 3px solid brown; background-color: #ffffff; color: #f2f2f2; font-weight: bold; border-radius: 5px;\"></td><td style=\"width: 40px; height: 40px; text-align: center; border: 3px solid brown; background-color: #e6e6e6; color: orange; font-weight: bold; border-radius: 5px;\">A</td><td style=\"width: 40px; height: 40px; text-align: center; border: 1px solid #ccc; background-color: #e6e6e6; color: red; font-weight: bold; border-radius: 5px;\">R</td></tr><tr><td style=\"width: 40px; height: 40px; text-align: center; border: 1px solid #ccc; background-color: #e6e6e6; color: black; font-weight: bold; border-radius: 5px;\">B</td><td style=\"width: 40px; height: 40px; text-align: center; border: 3px solid brown; background-color: #e6e6e6; color: blue; font-weight: bold; border-radius: 5px;\">Z</td><td style=\"width: 40px; height: 40px; text-align: center; border: 3px solid brown; background-color: #e6e6e6; color: red; font-weight: bold; border-radius: 5px;\">R</td><td style=\"width: 40px; height: 40px; text-align: center; border: 3px solid brown; background-color: #e6e6e6; color: green; font-weight: bold; border-radius: 5px;\">V</td><td style=\"width: 40px; height: 40px; text-align: center; border: 1px solid #ccc; background-color: #e6e6e6; color: gray; font-weight: bold; border-radius: 5px;\">N</td></tr><tr><td style=\"width: 40px; height: 40px; text-align: center; border: 1px solid #ccc; background-color: #e6e6e6; color: blue; font-weight: bold; border-radius: 5px;\">Z</td><td style=\"width: 40px; height: 40px; text-align: center; border: 3px solid brown; background-color: #e6e6e6; color: red; font-weight: bold; border-radius: 5px;\">R</td><td style=\"width: 40px; height: 40px; text-align: center; border: 3px solid brown; background-color: #e6e6e6; color: gray; font-weight: bold; border-radius: 5px;\">N</td><td style=\"width: 40px; height: 40px; text-align: center; border: 3px solid brown; background-color: #e6e6e6; color: orange; font-weight: bold; border-radius: 5px;\">A</td><td style=\"width: 40px; height: 40px; text-align: center; border: 1px solid #ccc; background-color: #e6e6e6; color: green; font-weight: bold; border-radius: 5px;\">V</td></tr><tr><td style=\"width: 40px; height: 40px; text-align: center; border: 1px solid #ccc; background-color: #e6e6e6; color: blue; font-weight: bold; border-radius: 5px;\">Z</td><td style=\"width: 40px; height: 40px; text-align: center; border: 1px solid #ccc; background-color: #e6e6e6; color: black; font-weight: bold; border-radius: 5px;\">B</td><td style=\"width: 40px; height: 40px; text-align: center; border: 1px solid #ccc; background-color: #e6e6e6; color: green; font-weight: bold; border-radius: 5px;\">V</td><td style=\"width: 40px; height: 40px; text-align: center; border: 1px solid #ccc; background-color: #e6e6e6; color: green; font-weight: bold; border-radius: 5px;\">V</td><td style=\"width: 40px; height: 40px; text-align: center; border: 1px solid #ccc; background-color: #e6e6e6; color: gray; font-weight: bold; border-radius: 5px;\">N</td></tr></table>"
            ]
          },
          "metadata": {}
        },
        {
          "output_type": "stream",
          "name": "stdout",
          "text": [
            "\n",
            "\n",
            "\n",
            "\n",
            "MOVIMIENTO# 10: Arriba - Heurística: 6\n",
            "\n"
          ]
        },
        {
          "output_type": "display_data",
          "data": {
            "text/plain": [
              "<IPython.core.display.HTML object>"
            ],
            "text/html": [
              "<table style=\"border-collapse: collapse; font-size: 20px; background-color: #f2f2f2; border-radius: 10px; padding: 10px;\"><tr><td style=\"width: 40px; height: 40px; text-align: center; border: 1px solid #ccc; background-color: #e6e6e6; color: orange; font-weight: bold; border-radius: 5px;\">A</td><td style=\"width: 40px; height: 40px; text-align: center; border: 1px solid #ccc; background-color: #e6e6e6; color: gray; font-weight: bold; border-radius: 5px;\">N</td><td style=\"width: 40px; height: 40px; text-align: center; border: 1px solid #ccc; background-color: #e6e6e6; color: red; font-weight: bold; border-radius: 5px;\">R</td><td style=\"width: 40px; height: 40px; text-align: center; border: 1px solid #ccc; background-color: #e6e6e6; color: blue; font-weight: bold; border-radius: 5px;\">Z</td><td style=\"width: 40px; height: 40px; text-align: center; border: 1px solid #ccc; background-color: #e6e6e6; color: orange; font-weight: bold; border-radius: 5px;\">A</td></tr><tr><td style=\"width: 40px; height: 40px; text-align: center; border: 1px solid #ccc; background-color: #e6e6e6; color: black; font-weight: bold; border-radius: 5px;\">B</td><td style=\"width: 40px; height: 40px; text-align: center; border: 3px solid brown; background-color: #e6e6e6; color: black; font-weight: bold; border-radius: 5px;\">B</td><td style=\"width: 40px; height: 40px; text-align: center; border: 3px solid brown; background-color: #e6e6e6; color: red; font-weight: bold; border-radius: 5px;\">R</td><td style=\"width: 40px; height: 40px; text-align: center; border: 3px solid brown; background-color: #e6e6e6; color: orange; font-weight: bold; border-radius: 5px;\">A</td><td style=\"width: 40px; height: 40px; text-align: center; border: 1px solid #ccc; background-color: #e6e6e6; color: red; font-weight: bold; border-radius: 5px;\">R</td></tr><tr><td style=\"width: 40px; height: 40px; text-align: center; border: 1px solid #ccc; background-color: #e6e6e6; color: black; font-weight: bold; border-radius: 5px;\">B</td><td style=\"width: 40px; height: 40px; text-align: center; border: 3px solid brown; background-color: #e6e6e6; color: blue; font-weight: bold; border-radius: 5px;\">Z</td><td style=\"width: 40px; height: 40px; text-align: center; border: 3px solid brown; background-color: #ffffff; color: #f2f2f2; font-weight: bold; border-radius: 5px;\"></td><td style=\"width: 40px; height: 40px; text-align: center; border: 3px solid brown; background-color: #e6e6e6; color: green; font-weight: bold; border-radius: 5px;\">V</td><td style=\"width: 40px; height: 40px; text-align: center; border: 1px solid #ccc; background-color: #e6e6e6; color: gray; font-weight: bold; border-radius: 5px;\">N</td></tr><tr><td style=\"width: 40px; height: 40px; text-align: center; border: 1px solid #ccc; background-color: #e6e6e6; color: blue; font-weight: bold; border-radius: 5px;\">Z</td><td style=\"width: 40px; height: 40px; text-align: center; border: 3px solid brown; background-color: #e6e6e6; color: red; font-weight: bold; border-radius: 5px;\">R</td><td style=\"width: 40px; height: 40px; text-align: center; border: 3px solid brown; background-color: #e6e6e6; color: gray; font-weight: bold; border-radius: 5px;\">N</td><td style=\"width: 40px; height: 40px; text-align: center; border: 3px solid brown; background-color: #e6e6e6; color: orange; font-weight: bold; border-radius: 5px;\">A</td><td style=\"width: 40px; height: 40px; text-align: center; border: 1px solid #ccc; background-color: #e6e6e6; color: green; font-weight: bold; border-radius: 5px;\">V</td></tr><tr><td style=\"width: 40px; height: 40px; text-align: center; border: 1px solid #ccc; background-color: #e6e6e6; color: blue; font-weight: bold; border-radius: 5px;\">Z</td><td style=\"width: 40px; height: 40px; text-align: center; border: 1px solid #ccc; background-color: #e6e6e6; color: black; font-weight: bold; border-radius: 5px;\">B</td><td style=\"width: 40px; height: 40px; text-align: center; border: 1px solid #ccc; background-color: #e6e6e6; color: green; font-weight: bold; border-radius: 5px;\">V</td><td style=\"width: 40px; height: 40px; text-align: center; border: 1px solid #ccc; background-color: #e6e6e6; color: green; font-weight: bold; border-radius: 5px;\">V</td><td style=\"width: 40px; height: 40px; text-align: center; border: 1px solid #ccc; background-color: #e6e6e6; color: gray; font-weight: bold; border-radius: 5px;\">N</td></tr></table>"
            ]
          },
          "metadata": {}
        },
        {
          "output_type": "stream",
          "name": "stdout",
          "text": [
            "\n",
            "\n",
            "\n",
            "\n",
            "MOVIMIENTO# 11: Arriba - Heurística: 5\n",
            "\n"
          ]
        },
        {
          "output_type": "display_data",
          "data": {
            "text/plain": [
              "<IPython.core.display.HTML object>"
            ],
            "text/html": [
              "<table style=\"border-collapse: collapse; font-size: 20px; background-color: #f2f2f2; border-radius: 10px; padding: 10px;\"><tr><td style=\"width: 40px; height: 40px; text-align: center; border: 1px solid #ccc; background-color: #e6e6e6; color: orange; font-weight: bold; border-radius: 5px;\">A</td><td style=\"width: 40px; height: 40px; text-align: center; border: 1px solid #ccc; background-color: #e6e6e6; color: gray; font-weight: bold; border-radius: 5px;\">N</td><td style=\"width: 40px; height: 40px; text-align: center; border: 1px solid #ccc; background-color: #e6e6e6; color: red; font-weight: bold; border-radius: 5px;\">R</td><td style=\"width: 40px; height: 40px; text-align: center; border: 1px solid #ccc; background-color: #e6e6e6; color: blue; font-weight: bold; border-radius: 5px;\">Z</td><td style=\"width: 40px; height: 40px; text-align: center; border: 1px solid #ccc; background-color: #e6e6e6; color: orange; font-weight: bold; border-radius: 5px;\">A</td></tr><tr><td style=\"width: 40px; height: 40px; text-align: center; border: 1px solid #ccc; background-color: #e6e6e6; color: black; font-weight: bold; border-radius: 5px;\">B</td><td style=\"width: 40px; height: 40px; text-align: center; border: 3px solid brown; background-color: #e6e6e6; color: black; font-weight: bold; border-radius: 5px;\">B</td><td style=\"width: 40px; height: 40px; text-align: center; border: 3px solid brown; background-color: #e6e6e6; color: red; font-weight: bold; border-radius: 5px;\">R</td><td style=\"width: 40px; height: 40px; text-align: center; border: 3px solid brown; background-color: #e6e6e6; color: orange; font-weight: bold; border-radius: 5px;\">A</td><td style=\"width: 40px; height: 40px; text-align: center; border: 1px solid #ccc; background-color: #e6e6e6; color: red; font-weight: bold; border-radius: 5px;\">R</td></tr><tr><td style=\"width: 40px; height: 40px; text-align: center; border: 1px solid #ccc; background-color: #e6e6e6; color: black; font-weight: bold; border-radius: 5px;\">B</td><td style=\"width: 40px; height: 40px; text-align: center; border: 3px solid brown; background-color: #e6e6e6; color: blue; font-weight: bold; border-radius: 5px;\">Z</td><td style=\"width: 40px; height: 40px; text-align: center; border: 3px solid brown; background-color: #e6e6e6; color: gray; font-weight: bold; border-radius: 5px;\">N</td><td style=\"width: 40px; height: 40px; text-align: center; border: 3px solid brown; background-color: #e6e6e6; color: green; font-weight: bold; border-radius: 5px;\">V</td><td style=\"width: 40px; height: 40px; text-align: center; border: 1px solid #ccc; background-color: #e6e6e6; color: gray; font-weight: bold; border-radius: 5px;\">N</td></tr><tr><td style=\"width: 40px; height: 40px; text-align: center; border: 1px solid #ccc; background-color: #e6e6e6; color: blue; font-weight: bold; border-radius: 5px;\">Z</td><td style=\"width: 40px; height: 40px; text-align: center; border: 3px solid brown; background-color: #e6e6e6; color: red; font-weight: bold; border-radius: 5px;\">R</td><td style=\"width: 40px; height: 40px; text-align: center; border: 3px solid brown; background-color: #ffffff; color: #f2f2f2; font-weight: bold; border-radius: 5px;\"></td><td style=\"width: 40px; height: 40px; text-align: center; border: 3px solid brown; background-color: #e6e6e6; color: orange; font-weight: bold; border-radius: 5px;\">A</td><td style=\"width: 40px; height: 40px; text-align: center; border: 1px solid #ccc; background-color: #e6e6e6; color: green; font-weight: bold; border-radius: 5px;\">V</td></tr><tr><td style=\"width: 40px; height: 40px; text-align: center; border: 1px solid #ccc; background-color: #e6e6e6; color: blue; font-weight: bold; border-radius: 5px;\">Z</td><td style=\"width: 40px; height: 40px; text-align: center; border: 1px solid #ccc; background-color: #e6e6e6; color: black; font-weight: bold; border-radius: 5px;\">B</td><td style=\"width: 40px; height: 40px; text-align: center; border: 1px solid #ccc; background-color: #e6e6e6; color: green; font-weight: bold; border-radius: 5px;\">V</td><td style=\"width: 40px; height: 40px; text-align: center; border: 1px solid #ccc; background-color: #e6e6e6; color: green; font-weight: bold; border-radius: 5px;\">V</td><td style=\"width: 40px; height: 40px; text-align: center; border: 1px solid #ccc; background-color: #e6e6e6; color: gray; font-weight: bold; border-radius: 5px;\">N</td></tr></table>"
            ]
          },
          "metadata": {}
        },
        {
          "output_type": "stream",
          "name": "stdout",
          "text": [
            "\n",
            "\n",
            "\n",
            "\n",
            "MOVIMIENTO# 12: Izquierda - Heurística: 4\n",
            "\n"
          ]
        },
        {
          "output_type": "display_data",
          "data": {
            "text/plain": [
              "<IPython.core.display.HTML object>"
            ],
            "text/html": [
              "<table style=\"border-collapse: collapse; font-size: 20px; background-color: #f2f2f2; border-radius: 10px; padding: 10px;\"><tr><td style=\"width: 40px; height: 40px; text-align: center; border: 1px solid #ccc; background-color: #e6e6e6; color: orange; font-weight: bold; border-radius: 5px;\">A</td><td style=\"width: 40px; height: 40px; text-align: center; border: 1px solid #ccc; background-color: #e6e6e6; color: gray; font-weight: bold; border-radius: 5px;\">N</td><td style=\"width: 40px; height: 40px; text-align: center; border: 1px solid #ccc; background-color: #e6e6e6; color: red; font-weight: bold; border-radius: 5px;\">R</td><td style=\"width: 40px; height: 40px; text-align: center; border: 1px solid #ccc; background-color: #e6e6e6; color: blue; font-weight: bold; border-radius: 5px;\">Z</td><td style=\"width: 40px; height: 40px; text-align: center; border: 1px solid #ccc; background-color: #e6e6e6; color: orange; font-weight: bold; border-radius: 5px;\">A</td></tr><tr><td style=\"width: 40px; height: 40px; text-align: center; border: 1px solid #ccc; background-color: #e6e6e6; color: black; font-weight: bold; border-radius: 5px;\">B</td><td style=\"width: 40px; height: 40px; text-align: center; border: 3px solid brown; background-color: #e6e6e6; color: black; font-weight: bold; border-radius: 5px;\">B</td><td style=\"width: 40px; height: 40px; text-align: center; border: 3px solid brown; background-color: #e6e6e6; color: red; font-weight: bold; border-radius: 5px;\">R</td><td style=\"width: 40px; height: 40px; text-align: center; border: 3px solid brown; background-color: #e6e6e6; color: orange; font-weight: bold; border-radius: 5px;\">A</td><td style=\"width: 40px; height: 40px; text-align: center; border: 1px solid #ccc; background-color: #e6e6e6; color: red; font-weight: bold; border-radius: 5px;\">R</td></tr><tr><td style=\"width: 40px; height: 40px; text-align: center; border: 1px solid #ccc; background-color: #e6e6e6; color: black; font-weight: bold; border-radius: 5px;\">B</td><td style=\"width: 40px; height: 40px; text-align: center; border: 3px solid brown; background-color: #e6e6e6; color: blue; font-weight: bold; border-radius: 5px;\">Z</td><td style=\"width: 40px; height: 40px; text-align: center; border: 3px solid brown; background-color: #e6e6e6; color: gray; font-weight: bold; border-radius: 5px;\">N</td><td style=\"width: 40px; height: 40px; text-align: center; border: 3px solid brown; background-color: #e6e6e6; color: green; font-weight: bold; border-radius: 5px;\">V</td><td style=\"width: 40px; height: 40px; text-align: center; border: 1px solid #ccc; background-color: #e6e6e6; color: gray; font-weight: bold; border-radius: 5px;\">N</td></tr><tr><td style=\"width: 40px; height: 40px; text-align: center; border: 1px solid #ccc; background-color: #e6e6e6; color: blue; font-weight: bold; border-radius: 5px;\">Z</td><td style=\"width: 40px; height: 40px; text-align: center; border: 3px solid brown; background-color: #e6e6e6; color: red; font-weight: bold; border-radius: 5px;\">R</td><td style=\"width: 40px; height: 40px; text-align: center; border: 3px solid brown; background-color: #e6e6e6; color: orange; font-weight: bold; border-radius: 5px;\">A</td><td style=\"width: 40px; height: 40px; text-align: center; border: 3px solid brown; background-color: #ffffff; color: #f2f2f2; font-weight: bold; border-radius: 5px;\"></td><td style=\"width: 40px; height: 40px; text-align: center; border: 1px solid #ccc; background-color: #e6e6e6; color: green; font-weight: bold; border-radius: 5px;\">V</td></tr><tr><td style=\"width: 40px; height: 40px; text-align: center; border: 1px solid #ccc; background-color: #e6e6e6; color: blue; font-weight: bold; border-radius: 5px;\">Z</td><td style=\"width: 40px; height: 40px; text-align: center; border: 1px solid #ccc; background-color: #e6e6e6; color: black; font-weight: bold; border-radius: 5px;\">B</td><td style=\"width: 40px; height: 40px; text-align: center; border: 1px solid #ccc; background-color: #e6e6e6; color: green; font-weight: bold; border-radius: 5px;\">V</td><td style=\"width: 40px; height: 40px; text-align: center; border: 1px solid #ccc; background-color: #e6e6e6; color: green; font-weight: bold; border-radius: 5px;\">V</td><td style=\"width: 40px; height: 40px; text-align: center; border: 1px solid #ccc; background-color: #e6e6e6; color: gray; font-weight: bold; border-radius: 5px;\">N</td></tr></table>"
            ]
          },
          "metadata": {}
        },
        {
          "output_type": "stream",
          "name": "stdout",
          "text": [
            "\n",
            "\n",
            "\n",
            "\n",
            "MOVIMIENTO# 13: Abajo - Heurística: 3\n",
            "\n"
          ]
        },
        {
          "output_type": "display_data",
          "data": {
            "text/plain": [
              "<IPython.core.display.HTML object>"
            ],
            "text/html": [
              "<table style=\"border-collapse: collapse; font-size: 20px; background-color: #f2f2f2; border-radius: 10px; padding: 10px;\"><tr><td style=\"width: 40px; height: 40px; text-align: center; border: 1px solid #ccc; background-color: #e6e6e6; color: orange; font-weight: bold; border-radius: 5px;\">A</td><td style=\"width: 40px; height: 40px; text-align: center; border: 1px solid #ccc; background-color: #e6e6e6; color: gray; font-weight: bold; border-radius: 5px;\">N</td><td style=\"width: 40px; height: 40px; text-align: center; border: 1px solid #ccc; background-color: #e6e6e6; color: red; font-weight: bold; border-radius: 5px;\">R</td><td style=\"width: 40px; height: 40px; text-align: center; border: 1px solid #ccc; background-color: #e6e6e6; color: blue; font-weight: bold; border-radius: 5px;\">Z</td><td style=\"width: 40px; height: 40px; text-align: center; border: 1px solid #ccc; background-color: #e6e6e6; color: orange; font-weight: bold; border-radius: 5px;\">A</td></tr><tr><td style=\"width: 40px; height: 40px; text-align: center; border: 1px solid #ccc; background-color: #e6e6e6; color: black; font-weight: bold; border-radius: 5px;\">B</td><td style=\"width: 40px; height: 40px; text-align: center; border: 3px solid brown; background-color: #e6e6e6; color: black; font-weight: bold; border-radius: 5px;\">B</td><td style=\"width: 40px; height: 40px; text-align: center; border: 3px solid brown; background-color: #e6e6e6; color: red; font-weight: bold; border-radius: 5px;\">R</td><td style=\"width: 40px; height: 40px; text-align: center; border: 3px solid brown; background-color: #e6e6e6; color: orange; font-weight: bold; border-radius: 5px;\">A</td><td style=\"width: 40px; height: 40px; text-align: center; border: 1px solid #ccc; background-color: #e6e6e6; color: red; font-weight: bold; border-radius: 5px;\">R</td></tr><tr><td style=\"width: 40px; height: 40px; text-align: center; border: 1px solid #ccc; background-color: #e6e6e6; color: black; font-weight: bold; border-radius: 5px;\">B</td><td style=\"width: 40px; height: 40px; text-align: center; border: 3px solid brown; background-color: #e6e6e6; color: blue; font-weight: bold; border-radius: 5px;\">Z</td><td style=\"width: 40px; height: 40px; text-align: center; border: 3px solid brown; background-color: #e6e6e6; color: gray; font-weight: bold; border-radius: 5px;\">N</td><td style=\"width: 40px; height: 40px; text-align: center; border: 3px solid brown; background-color: #ffffff; color: #f2f2f2; font-weight: bold; border-radius: 5px;\"></td><td style=\"width: 40px; height: 40px; text-align: center; border: 1px solid #ccc; background-color: #e6e6e6; color: gray; font-weight: bold; border-radius: 5px;\">N</td></tr><tr><td style=\"width: 40px; height: 40px; text-align: center; border: 1px solid #ccc; background-color: #e6e6e6; color: blue; font-weight: bold; border-radius: 5px;\">Z</td><td style=\"width: 40px; height: 40px; text-align: center; border: 3px solid brown; background-color: #e6e6e6; color: red; font-weight: bold; border-radius: 5px;\">R</td><td style=\"width: 40px; height: 40px; text-align: center; border: 3px solid brown; background-color: #e6e6e6; color: orange; font-weight: bold; border-radius: 5px;\">A</td><td style=\"width: 40px; height: 40px; text-align: center; border: 3px solid brown; background-color: #e6e6e6; color: green; font-weight: bold; border-radius: 5px;\">V</td><td style=\"width: 40px; height: 40px; text-align: center; border: 1px solid #ccc; background-color: #e6e6e6; color: green; font-weight: bold; border-radius: 5px;\">V</td></tr><tr><td style=\"width: 40px; height: 40px; text-align: center; border: 1px solid #ccc; background-color: #e6e6e6; color: blue; font-weight: bold; border-radius: 5px;\">Z</td><td style=\"width: 40px; height: 40px; text-align: center; border: 1px solid #ccc; background-color: #e6e6e6; color: black; font-weight: bold; border-radius: 5px;\">B</td><td style=\"width: 40px; height: 40px; text-align: center; border: 1px solid #ccc; background-color: #e6e6e6; color: green; font-weight: bold; border-radius: 5px;\">V</td><td style=\"width: 40px; height: 40px; text-align: center; border: 1px solid #ccc; background-color: #e6e6e6; color: green; font-weight: bold; border-radius: 5px;\">V</td><td style=\"width: 40px; height: 40px; text-align: center; border: 1px solid #ccc; background-color: #e6e6e6; color: gray; font-weight: bold; border-radius: 5px;\">N</td></tr></table>"
            ]
          },
          "metadata": {}
        },
        {
          "output_type": "stream",
          "name": "stdout",
          "text": [
            "\n",
            "\n",
            "\n",
            "\n",
            "MOVIMIENTO# 14: Abajo - Heurística: 2\n",
            "\n"
          ]
        },
        {
          "output_type": "display_data",
          "data": {
            "text/plain": [
              "<IPython.core.display.HTML object>"
            ],
            "text/html": [
              "<table style=\"border-collapse: collapse; font-size: 20px; background-color: #f2f2f2; border-radius: 10px; padding: 10px;\"><tr><td style=\"width: 40px; height: 40px; text-align: center; border: 1px solid #ccc; background-color: #e6e6e6; color: orange; font-weight: bold; border-radius: 5px;\">A</td><td style=\"width: 40px; height: 40px; text-align: center; border: 1px solid #ccc; background-color: #e6e6e6; color: gray; font-weight: bold; border-radius: 5px;\">N</td><td style=\"width: 40px; height: 40px; text-align: center; border: 1px solid #ccc; background-color: #e6e6e6; color: red; font-weight: bold; border-radius: 5px;\">R</td><td style=\"width: 40px; height: 40px; text-align: center; border: 1px solid #ccc; background-color: #e6e6e6; color: blue; font-weight: bold; border-radius: 5px;\">Z</td><td style=\"width: 40px; height: 40px; text-align: center; border: 1px solid #ccc; background-color: #e6e6e6; color: orange; font-weight: bold; border-radius: 5px;\">A</td></tr><tr><td style=\"width: 40px; height: 40px; text-align: center; border: 1px solid #ccc; background-color: #e6e6e6; color: black; font-weight: bold; border-radius: 5px;\">B</td><td style=\"width: 40px; height: 40px; text-align: center; border: 3px solid brown; background-color: #e6e6e6; color: black; font-weight: bold; border-radius: 5px;\">B</td><td style=\"width: 40px; height: 40px; text-align: center; border: 3px solid brown; background-color: #e6e6e6; color: red; font-weight: bold; border-radius: 5px;\">R</td><td style=\"width: 40px; height: 40px; text-align: center; border: 3px solid brown; background-color: #ffffff; color: #f2f2f2; font-weight: bold; border-radius: 5px;\"></td><td style=\"width: 40px; height: 40px; text-align: center; border: 1px solid #ccc; background-color: #e6e6e6; color: red; font-weight: bold; border-radius: 5px;\">R</td></tr><tr><td style=\"width: 40px; height: 40px; text-align: center; border: 1px solid #ccc; background-color: #e6e6e6; color: black; font-weight: bold; border-radius: 5px;\">B</td><td style=\"width: 40px; height: 40px; text-align: center; border: 3px solid brown; background-color: #e6e6e6; color: blue; font-weight: bold; border-radius: 5px;\">Z</td><td style=\"width: 40px; height: 40px; text-align: center; border: 3px solid brown; background-color: #e6e6e6; color: gray; font-weight: bold; border-radius: 5px;\">N</td><td style=\"width: 40px; height: 40px; text-align: center; border: 3px solid brown; background-color: #e6e6e6; color: orange; font-weight: bold; border-radius: 5px;\">A</td><td style=\"width: 40px; height: 40px; text-align: center; border: 1px solid #ccc; background-color: #e6e6e6; color: gray; font-weight: bold; border-radius: 5px;\">N</td></tr><tr><td style=\"width: 40px; height: 40px; text-align: center; border: 1px solid #ccc; background-color: #e6e6e6; color: blue; font-weight: bold; border-radius: 5px;\">Z</td><td style=\"width: 40px; height: 40px; text-align: center; border: 3px solid brown; background-color: #e6e6e6; color: red; font-weight: bold; border-radius: 5px;\">R</td><td style=\"width: 40px; height: 40px; text-align: center; border: 3px solid brown; background-color: #e6e6e6; color: orange; font-weight: bold; border-radius: 5px;\">A</td><td style=\"width: 40px; height: 40px; text-align: center; border: 3px solid brown; background-color: #e6e6e6; color: green; font-weight: bold; border-radius: 5px;\">V</td><td style=\"width: 40px; height: 40px; text-align: center; border: 1px solid #ccc; background-color: #e6e6e6; color: green; font-weight: bold; border-radius: 5px;\">V</td></tr><tr><td style=\"width: 40px; height: 40px; text-align: center; border: 1px solid #ccc; background-color: #e6e6e6; color: blue; font-weight: bold; border-radius: 5px;\">Z</td><td style=\"width: 40px; height: 40px; text-align: center; border: 1px solid #ccc; background-color: #e6e6e6; color: black; font-weight: bold; border-radius: 5px;\">B</td><td style=\"width: 40px; height: 40px; text-align: center; border: 1px solid #ccc; background-color: #e6e6e6; color: green; font-weight: bold; border-radius: 5px;\">V</td><td style=\"width: 40px; height: 40px; text-align: center; border: 1px solid #ccc; background-color: #e6e6e6; color: green; font-weight: bold; border-radius: 5px;\">V</td><td style=\"width: 40px; height: 40px; text-align: center; border: 1px solid #ccc; background-color: #e6e6e6; color: gray; font-weight: bold; border-radius: 5px;\">N</td></tr></table>"
            ]
          },
          "metadata": {}
        },
        {
          "output_type": "stream",
          "name": "stdout",
          "text": [
            "\n",
            "\n",
            "\n",
            "\n",
            "MOVIMIENTO# 15: Abajo - Heurística: 1\n",
            "\n"
          ]
        },
        {
          "output_type": "display_data",
          "data": {
            "text/plain": [
              "<IPython.core.display.HTML object>"
            ],
            "text/html": [
              "<table style=\"border-collapse: collapse; font-size: 20px; background-color: #f2f2f2; border-radius: 10px; padding: 10px;\"><tr><td style=\"width: 40px; height: 40px; text-align: center; border: 1px solid #ccc; background-color: #e6e6e6; color: orange; font-weight: bold; border-radius: 5px;\">A</td><td style=\"width: 40px; height: 40px; text-align: center; border: 1px solid #ccc; background-color: #e6e6e6; color: gray; font-weight: bold; border-radius: 5px;\">N</td><td style=\"width: 40px; height: 40px; text-align: center; border: 1px solid #ccc; background-color: #e6e6e6; color: red; font-weight: bold; border-radius: 5px;\">R</td><td style=\"width: 40px; height: 40px; text-align: center; border: 1px solid #ccc; background-color: #ffffff; color: #f2f2f2; font-weight: bold; border-radius: 5px;\"></td><td style=\"width: 40px; height: 40px; text-align: center; border: 1px solid #ccc; background-color: #e6e6e6; color: orange; font-weight: bold; border-radius: 5px;\">A</td></tr><tr><td style=\"width: 40px; height: 40px; text-align: center; border: 1px solid #ccc; background-color: #e6e6e6; color: black; font-weight: bold; border-radius: 5px;\">B</td><td style=\"width: 40px; height: 40px; text-align: center; border: 3px solid brown; background-color: #e6e6e6; color: black; font-weight: bold; border-radius: 5px;\">B</td><td style=\"width: 40px; height: 40px; text-align: center; border: 3px solid brown; background-color: #e6e6e6; color: red; font-weight: bold; border-radius: 5px;\">R</td><td style=\"width: 40px; height: 40px; text-align: center; border: 3px solid brown; background-color: #e6e6e6; color: blue; font-weight: bold; border-radius: 5px;\">Z</td><td style=\"width: 40px; height: 40px; text-align: center; border: 1px solid #ccc; background-color: #e6e6e6; color: red; font-weight: bold; border-radius: 5px;\">R</td></tr><tr><td style=\"width: 40px; height: 40px; text-align: center; border: 1px solid #ccc; background-color: #e6e6e6; color: black; font-weight: bold; border-radius: 5px;\">B</td><td style=\"width: 40px; height: 40px; text-align: center; border: 3px solid brown; background-color: #e6e6e6; color: blue; font-weight: bold; border-radius: 5px;\">Z</td><td style=\"width: 40px; height: 40px; text-align: center; border: 3px solid brown; background-color: #e6e6e6; color: gray; font-weight: bold; border-radius: 5px;\">N</td><td style=\"width: 40px; height: 40px; text-align: center; border: 3px solid brown; background-color: #e6e6e6; color: orange; font-weight: bold; border-radius: 5px;\">A</td><td style=\"width: 40px; height: 40px; text-align: center; border: 1px solid #ccc; background-color: #e6e6e6; color: gray; font-weight: bold; border-radius: 5px;\">N</td></tr><tr><td style=\"width: 40px; height: 40px; text-align: center; border: 1px solid #ccc; background-color: #e6e6e6; color: blue; font-weight: bold; border-radius: 5px;\">Z</td><td style=\"width: 40px; height: 40px; text-align: center; border: 3px solid brown; background-color: #e6e6e6; color: red; font-weight: bold; border-radius: 5px;\">R</td><td style=\"width: 40px; height: 40px; text-align: center; border: 3px solid brown; background-color: #e6e6e6; color: orange; font-weight: bold; border-radius: 5px;\">A</td><td style=\"width: 40px; height: 40px; text-align: center; border: 3px solid brown; background-color: #e6e6e6; color: green; font-weight: bold; border-radius: 5px;\">V</td><td style=\"width: 40px; height: 40px; text-align: center; border: 1px solid #ccc; background-color: #e6e6e6; color: green; font-weight: bold; border-radius: 5px;\">V</td></tr><tr><td style=\"width: 40px; height: 40px; text-align: center; border: 1px solid #ccc; background-color: #e6e6e6; color: blue; font-weight: bold; border-radius: 5px;\">Z</td><td style=\"width: 40px; height: 40px; text-align: center; border: 1px solid #ccc; background-color: #e6e6e6; color: black; font-weight: bold; border-radius: 5px;\">B</td><td style=\"width: 40px; height: 40px; text-align: center; border: 1px solid #ccc; background-color: #e6e6e6; color: green; font-weight: bold; border-radius: 5px;\">V</td><td style=\"width: 40px; height: 40px; text-align: center; border: 1px solid #ccc; background-color: #e6e6e6; color: green; font-weight: bold; border-radius: 5px;\">V</td><td style=\"width: 40px; height: 40px; text-align: center; border: 1px solid #ccc; background-color: #e6e6e6; color: gray; font-weight: bold; border-radius: 5px;\">N</td></tr></table>"
            ]
          },
          "metadata": {}
        },
        {
          "output_type": "stream",
          "name": "stdout",
          "text": [
            "\n",
            "\n",
            "\n",
            "\n",
            "MOVIMIENTO# 16: Derecha - Heurística: 1\n",
            "\n"
          ]
        },
        {
          "output_type": "display_data",
          "data": {
            "text/plain": [
              "<IPython.core.display.HTML object>"
            ],
            "text/html": [
              "<table style=\"border-collapse: collapse; font-size: 20px; background-color: #f2f2f2; border-radius: 10px; padding: 10px;\"><tr><td style=\"width: 40px; height: 40px; text-align: center; border: 1px solid #ccc; background-color: #e6e6e6; color: orange; font-weight: bold; border-radius: 5px;\">A</td><td style=\"width: 40px; height: 40px; text-align: center; border: 1px solid #ccc; background-color: #e6e6e6; color: gray; font-weight: bold; border-radius: 5px;\">N</td><td style=\"width: 40px; height: 40px; text-align: center; border: 1px solid #ccc; background-color: #ffffff; color: #f2f2f2; font-weight: bold; border-radius: 5px;\"></td><td style=\"width: 40px; height: 40px; text-align: center; border: 1px solid #ccc; background-color: #e6e6e6; color: red; font-weight: bold; border-radius: 5px;\">R</td><td style=\"width: 40px; height: 40px; text-align: center; border: 1px solid #ccc; background-color: #e6e6e6; color: orange; font-weight: bold; border-radius: 5px;\">A</td></tr><tr><td style=\"width: 40px; height: 40px; text-align: center; border: 1px solid #ccc; background-color: #e6e6e6; color: black; font-weight: bold; border-radius: 5px;\">B</td><td style=\"width: 40px; height: 40px; text-align: center; border: 3px solid brown; background-color: #e6e6e6; color: black; font-weight: bold; border-radius: 5px;\">B</td><td style=\"width: 40px; height: 40px; text-align: center; border: 3px solid brown; background-color: #e6e6e6; color: red; font-weight: bold; border-radius: 5px;\">R</td><td style=\"width: 40px; height: 40px; text-align: center; border: 3px solid brown; background-color: #e6e6e6; color: blue; font-weight: bold; border-radius: 5px;\">Z</td><td style=\"width: 40px; height: 40px; text-align: center; border: 1px solid #ccc; background-color: #e6e6e6; color: red; font-weight: bold; border-radius: 5px;\">R</td></tr><tr><td style=\"width: 40px; height: 40px; text-align: center; border: 1px solid #ccc; background-color: #e6e6e6; color: black; font-weight: bold; border-radius: 5px;\">B</td><td style=\"width: 40px; height: 40px; text-align: center; border: 3px solid brown; background-color: #e6e6e6; color: blue; font-weight: bold; border-radius: 5px;\">Z</td><td style=\"width: 40px; height: 40px; text-align: center; border: 3px solid brown; background-color: #e6e6e6; color: gray; font-weight: bold; border-radius: 5px;\">N</td><td style=\"width: 40px; height: 40px; text-align: center; border: 3px solid brown; background-color: #e6e6e6; color: orange; font-weight: bold; border-radius: 5px;\">A</td><td style=\"width: 40px; height: 40px; text-align: center; border: 1px solid #ccc; background-color: #e6e6e6; color: gray; font-weight: bold; border-radius: 5px;\">N</td></tr><tr><td style=\"width: 40px; height: 40px; text-align: center; border: 1px solid #ccc; background-color: #e6e6e6; color: blue; font-weight: bold; border-radius: 5px;\">Z</td><td style=\"width: 40px; height: 40px; text-align: center; border: 3px solid brown; background-color: #e6e6e6; color: red; font-weight: bold; border-radius: 5px;\">R</td><td style=\"width: 40px; height: 40px; text-align: center; border: 3px solid brown; background-color: #e6e6e6; color: orange; font-weight: bold; border-radius: 5px;\">A</td><td style=\"width: 40px; height: 40px; text-align: center; border: 3px solid brown; background-color: #e6e6e6; color: green; font-weight: bold; border-radius: 5px;\">V</td><td style=\"width: 40px; height: 40px; text-align: center; border: 1px solid #ccc; background-color: #e6e6e6; color: green; font-weight: bold; border-radius: 5px;\">V</td></tr><tr><td style=\"width: 40px; height: 40px; text-align: center; border: 1px solid #ccc; background-color: #e6e6e6; color: blue; font-weight: bold; border-radius: 5px;\">Z</td><td style=\"width: 40px; height: 40px; text-align: center; border: 1px solid #ccc; background-color: #e6e6e6; color: black; font-weight: bold; border-radius: 5px;\">B</td><td style=\"width: 40px; height: 40px; text-align: center; border: 1px solid #ccc; background-color: #e6e6e6; color: green; font-weight: bold; border-radius: 5px;\">V</td><td style=\"width: 40px; height: 40px; text-align: center; border: 1px solid #ccc; background-color: #e6e6e6; color: green; font-weight: bold; border-radius: 5px;\">V</td><td style=\"width: 40px; height: 40px; text-align: center; border: 1px solid #ccc; background-color: #e6e6e6; color: gray; font-weight: bold; border-radius: 5px;\">N</td></tr></table>"
            ]
          },
          "metadata": {}
        },
        {
          "output_type": "stream",
          "name": "stdout",
          "text": [
            "\n",
            "\n",
            "\n",
            "\n",
            "MOVIMIENTO# 17: Arriba - Heurística: 1\n",
            "\n"
          ]
        },
        {
          "output_type": "display_data",
          "data": {
            "text/plain": [
              "<IPython.core.display.HTML object>"
            ],
            "text/html": [
              "<table style=\"border-collapse: collapse; font-size: 20px; background-color: #f2f2f2; border-radius: 10px; padding: 10px;\"><tr><td style=\"width: 40px; height: 40px; text-align: center; border: 1px solid #ccc; background-color: #e6e6e6; color: orange; font-weight: bold; border-radius: 5px;\">A</td><td style=\"width: 40px; height: 40px; text-align: center; border: 1px solid #ccc; background-color: #e6e6e6; color: gray; font-weight: bold; border-radius: 5px;\">N</td><td style=\"width: 40px; height: 40px; text-align: center; border: 1px solid #ccc; background-color: #e6e6e6; color: red; font-weight: bold; border-radius: 5px;\">R</td><td style=\"width: 40px; height: 40px; text-align: center; border: 1px solid #ccc; background-color: #e6e6e6; color: red; font-weight: bold; border-radius: 5px;\">R</td><td style=\"width: 40px; height: 40px; text-align: center; border: 1px solid #ccc; background-color: #e6e6e6; color: orange; font-weight: bold; border-radius: 5px;\">A</td></tr><tr><td style=\"width: 40px; height: 40px; text-align: center; border: 1px solid #ccc; background-color: #e6e6e6; color: black; font-weight: bold; border-radius: 5px;\">B</td><td style=\"width: 40px; height: 40px; text-align: center; border: 3px solid brown; background-color: #e6e6e6; color: black; font-weight: bold; border-radius: 5px;\">B</td><td style=\"width: 40px; height: 40px; text-align: center; border: 3px solid brown; background-color: #ffffff; color: #f2f2f2; font-weight: bold; border-radius: 5px;\"></td><td style=\"width: 40px; height: 40px; text-align: center; border: 3px solid brown; background-color: #e6e6e6; color: blue; font-weight: bold; border-radius: 5px;\">Z</td><td style=\"width: 40px; height: 40px; text-align: center; border: 1px solid #ccc; background-color: #e6e6e6; color: red; font-weight: bold; border-radius: 5px;\">R</td></tr><tr><td style=\"width: 40px; height: 40px; text-align: center; border: 1px solid #ccc; background-color: #e6e6e6; color: black; font-weight: bold; border-radius: 5px;\">B</td><td style=\"width: 40px; height: 40px; text-align: center; border: 3px solid brown; background-color: #e6e6e6; color: blue; font-weight: bold; border-radius: 5px;\">Z</td><td style=\"width: 40px; height: 40px; text-align: center; border: 3px solid brown; background-color: #e6e6e6; color: gray; font-weight: bold; border-radius: 5px;\">N</td><td style=\"width: 40px; height: 40px; text-align: center; border: 3px solid brown; background-color: #e6e6e6; color: orange; font-weight: bold; border-radius: 5px;\">A</td><td style=\"width: 40px; height: 40px; text-align: center; border: 1px solid #ccc; background-color: #e6e6e6; color: gray; font-weight: bold; border-radius: 5px;\">N</td></tr><tr><td style=\"width: 40px; height: 40px; text-align: center; border: 1px solid #ccc; background-color: #e6e6e6; color: blue; font-weight: bold; border-radius: 5px;\">Z</td><td style=\"width: 40px; height: 40px; text-align: center; border: 3px solid brown; background-color: #e6e6e6; color: red; font-weight: bold; border-radius: 5px;\">R</td><td style=\"width: 40px; height: 40px; text-align: center; border: 3px solid brown; background-color: #e6e6e6; color: orange; font-weight: bold; border-radius: 5px;\">A</td><td style=\"width: 40px; height: 40px; text-align: center; border: 3px solid brown; background-color: #e6e6e6; color: green; font-weight: bold; border-radius: 5px;\">V</td><td style=\"width: 40px; height: 40px; text-align: center; border: 1px solid #ccc; background-color: #e6e6e6; color: green; font-weight: bold; border-radius: 5px;\">V</td></tr><tr><td style=\"width: 40px; height: 40px; text-align: center; border: 1px solid #ccc; background-color: #e6e6e6; color: blue; font-weight: bold; border-radius: 5px;\">Z</td><td style=\"width: 40px; height: 40px; text-align: center; border: 1px solid #ccc; background-color: #e6e6e6; color: black; font-weight: bold; border-radius: 5px;\">B</td><td style=\"width: 40px; height: 40px; text-align: center; border: 1px solid #ccc; background-color: #e6e6e6; color: green; font-weight: bold; border-radius: 5px;\">V</td><td style=\"width: 40px; height: 40px; text-align: center; border: 1px solid #ccc; background-color: #e6e6e6; color: green; font-weight: bold; border-radius: 5px;\">V</td><td style=\"width: 40px; height: 40px; text-align: center; border: 1px solid #ccc; background-color: #e6e6e6; color: gray; font-weight: bold; border-radius: 5px;\">N</td></tr></table>"
            ]
          },
          "metadata": {}
        },
        {
          "output_type": "stream",
          "name": "stdout",
          "text": [
            "\n",
            "\n",
            "\n",
            "\n",
            "MOVIMIENTO# 18: Derecha - Heurística: 1\n",
            "\n"
          ]
        },
        {
          "output_type": "display_data",
          "data": {
            "text/plain": [
              "<IPython.core.display.HTML object>"
            ],
            "text/html": [
              "<table style=\"border-collapse: collapse; font-size: 20px; background-color: #f2f2f2; border-radius: 10px; padding: 10px;\"><tr><td style=\"width: 40px; height: 40px; text-align: center; border: 1px solid #ccc; background-color: #e6e6e6; color: orange; font-weight: bold; border-radius: 5px;\">A</td><td style=\"width: 40px; height: 40px; text-align: center; border: 1px solid #ccc; background-color: #e6e6e6; color: gray; font-weight: bold; border-radius: 5px;\">N</td><td style=\"width: 40px; height: 40px; text-align: center; border: 1px solid #ccc; background-color: #e6e6e6; color: red; font-weight: bold; border-radius: 5px;\">R</td><td style=\"width: 40px; height: 40px; text-align: center; border: 1px solid #ccc; background-color: #e6e6e6; color: red; font-weight: bold; border-radius: 5px;\">R</td><td style=\"width: 40px; height: 40px; text-align: center; border: 1px solid #ccc; background-color: #e6e6e6; color: orange; font-weight: bold; border-radius: 5px;\">A</td></tr><tr><td style=\"width: 40px; height: 40px; text-align: center; border: 1px solid #ccc; background-color: #e6e6e6; color: black; font-weight: bold; border-radius: 5px;\">B</td><td style=\"width: 40px; height: 40px; text-align: center; border: 3px solid brown; background-color: #ffffff; color: #f2f2f2; font-weight: bold; border-radius: 5px;\"></td><td style=\"width: 40px; height: 40px; text-align: center; border: 3px solid brown; background-color: #e6e6e6; color: black; font-weight: bold; border-radius: 5px;\">B</td><td style=\"width: 40px; height: 40px; text-align: center; border: 3px solid brown; background-color: #e6e6e6; color: blue; font-weight: bold; border-radius: 5px;\">Z</td><td style=\"width: 40px; height: 40px; text-align: center; border: 1px solid #ccc; background-color: #e6e6e6; color: red; font-weight: bold; border-radius: 5px;\">R</td></tr><tr><td style=\"width: 40px; height: 40px; text-align: center; border: 1px solid #ccc; background-color: #e6e6e6; color: black; font-weight: bold; border-radius: 5px;\">B</td><td style=\"width: 40px; height: 40px; text-align: center; border: 3px solid brown; background-color: #e6e6e6; color: blue; font-weight: bold; border-radius: 5px;\">Z</td><td style=\"width: 40px; height: 40px; text-align: center; border: 3px solid brown; background-color: #e6e6e6; color: gray; font-weight: bold; border-radius: 5px;\">N</td><td style=\"width: 40px; height: 40px; text-align: center; border: 3px solid brown; background-color: #e6e6e6; color: orange; font-weight: bold; border-radius: 5px;\">A</td><td style=\"width: 40px; height: 40px; text-align: center; border: 1px solid #ccc; background-color: #e6e6e6; color: gray; font-weight: bold; border-radius: 5px;\">N</td></tr><tr><td style=\"width: 40px; height: 40px; text-align: center; border: 1px solid #ccc; background-color: #e6e6e6; color: blue; font-weight: bold; border-radius: 5px;\">Z</td><td style=\"width: 40px; height: 40px; text-align: center; border: 3px solid brown; background-color: #e6e6e6; color: red; font-weight: bold; border-radius: 5px;\">R</td><td style=\"width: 40px; height: 40px; text-align: center; border: 3px solid brown; background-color: #e6e6e6; color: orange; font-weight: bold; border-radius: 5px;\">A</td><td style=\"width: 40px; height: 40px; text-align: center; border: 3px solid brown; background-color: #e6e6e6; color: green; font-weight: bold; border-radius: 5px;\">V</td><td style=\"width: 40px; height: 40px; text-align: center; border: 1px solid #ccc; background-color: #e6e6e6; color: green; font-weight: bold; border-radius: 5px;\">V</td></tr><tr><td style=\"width: 40px; height: 40px; text-align: center; border: 1px solid #ccc; background-color: #e6e6e6; color: blue; font-weight: bold; border-radius: 5px;\">Z</td><td style=\"width: 40px; height: 40px; text-align: center; border: 1px solid #ccc; background-color: #e6e6e6; color: black; font-weight: bold; border-radius: 5px;\">B</td><td style=\"width: 40px; height: 40px; text-align: center; border: 1px solid #ccc; background-color: #e6e6e6; color: green; font-weight: bold; border-radius: 5px;\">V</td><td style=\"width: 40px; height: 40px; text-align: center; border: 1px solid #ccc; background-color: #e6e6e6; color: green; font-weight: bold; border-radius: 5px;\">V</td><td style=\"width: 40px; height: 40px; text-align: center; border: 1px solid #ccc; background-color: #e6e6e6; color: gray; font-weight: bold; border-radius: 5px;\">N</td></tr></table>"
            ]
          },
          "metadata": {}
        },
        {
          "output_type": "stream",
          "name": "stdout",
          "text": [
            "\n",
            "\n",
            "\n",
            "\n",
            "MOVIMIENTO# 19: Derecha - Heurística: 0\n",
            "\n"
          ]
        },
        {
          "output_type": "display_data",
          "data": {
            "text/plain": [
              "<IPython.core.display.HTML object>"
            ],
            "text/html": [
              "<table style=\"border-collapse: collapse; font-size: 20px; background-color: #f2f2f2; border-radius: 10px; padding: 10px;\"><tr><td style=\"width: 40px; height: 40px; text-align: center; border: 1px solid #ccc; background-color: #e6e6e6; color: orange; font-weight: bold; border-radius: 5px;\">A</td><td style=\"width: 40px; height: 40px; text-align: center; border: 1px solid #ccc; background-color: #e6e6e6; color: gray; font-weight: bold; border-radius: 5px;\">N</td><td style=\"width: 40px; height: 40px; text-align: center; border: 1px solid #ccc; background-color: #e6e6e6; color: red; font-weight: bold; border-radius: 5px;\">R</td><td style=\"width: 40px; height: 40px; text-align: center; border: 1px solid #ccc; background-color: #e6e6e6; color: red; font-weight: bold; border-radius: 5px;\">R</td><td style=\"width: 40px; height: 40px; text-align: center; border: 1px solid #ccc; background-color: #e6e6e6; color: orange; font-weight: bold; border-radius: 5px;\">A</td></tr><tr><td style=\"width: 40px; height: 40px; text-align: center; border: 1px solid #ccc; background-color: #ffffff; color: #f2f2f2; font-weight: bold; border-radius: 5px;\"></td><td style=\"width: 40px; height: 40px; text-align: center; border: 3px solid brown; background-color: #e6e6e6; color: black; font-weight: bold; border-radius: 5px;\">B</td><td style=\"width: 40px; height: 40px; text-align: center; border: 3px solid brown; background-color: #e6e6e6; color: black; font-weight: bold; border-radius: 5px;\">B</td><td style=\"width: 40px; height: 40px; text-align: center; border: 3px solid brown; background-color: #e6e6e6; color: blue; font-weight: bold; border-radius: 5px;\">Z</td><td style=\"width: 40px; height: 40px; text-align: center; border: 1px solid #ccc; background-color: #e6e6e6; color: red; font-weight: bold; border-radius: 5px;\">R</td></tr><tr><td style=\"width: 40px; height: 40px; text-align: center; border: 1px solid #ccc; background-color: #e6e6e6; color: black; font-weight: bold; border-radius: 5px;\">B</td><td style=\"width: 40px; height: 40px; text-align: center; border: 3px solid brown; background-color: #e6e6e6; color: blue; font-weight: bold; border-radius: 5px;\">Z</td><td style=\"width: 40px; height: 40px; text-align: center; border: 3px solid brown; background-color: #e6e6e6; color: gray; font-weight: bold; border-radius: 5px;\">N</td><td style=\"width: 40px; height: 40px; text-align: center; border: 3px solid brown; background-color: #e6e6e6; color: orange; font-weight: bold; border-radius: 5px;\">A</td><td style=\"width: 40px; height: 40px; text-align: center; border: 1px solid #ccc; background-color: #e6e6e6; color: gray; font-weight: bold; border-radius: 5px;\">N</td></tr><tr><td style=\"width: 40px; height: 40px; text-align: center; border: 1px solid #ccc; background-color: #e6e6e6; color: blue; font-weight: bold; border-radius: 5px;\">Z</td><td style=\"width: 40px; height: 40px; text-align: center; border: 3px solid brown; background-color: #e6e6e6; color: red; font-weight: bold; border-radius: 5px;\">R</td><td style=\"width: 40px; height: 40px; text-align: center; border: 3px solid brown; background-color: #e6e6e6; color: orange; font-weight: bold; border-radius: 5px;\">A</td><td style=\"width: 40px; height: 40px; text-align: center; border: 3px solid brown; background-color: #e6e6e6; color: green; font-weight: bold; border-radius: 5px;\">V</td><td style=\"width: 40px; height: 40px; text-align: center; border: 1px solid #ccc; background-color: #e6e6e6; color: green; font-weight: bold; border-radius: 5px;\">V</td></tr><tr><td style=\"width: 40px; height: 40px; text-align: center; border: 1px solid #ccc; background-color: #e6e6e6; color: blue; font-weight: bold; border-radius: 5px;\">Z</td><td style=\"width: 40px; height: 40px; text-align: center; border: 1px solid #ccc; background-color: #e6e6e6; color: black; font-weight: bold; border-radius: 5px;\">B</td><td style=\"width: 40px; height: 40px; text-align: center; border: 1px solid #ccc; background-color: #e6e6e6; color: green; font-weight: bold; border-radius: 5px;\">V</td><td style=\"width: 40px; height: 40px; text-align: center; border: 1px solid #ccc; background-color: #e6e6e6; color: green; font-weight: bold; border-radius: 5px;\">V</td><td style=\"width: 40px; height: 40px; text-align: center; border: 1px solid #ccc; background-color: #e6e6e6; color: gray; font-weight: bold; border-radius: 5px;\">N</td></tr></table>"
            ]
          },
          "metadata": {}
        },
        {
          "output_type": "stream",
          "name": "stdout",
          "text": [
            "\n",
            "\n",
            "\n",
            "\n"
          ]
        }
      ]
    },
    {
      "cell_type": "markdown",
      "source": [
        "##**Referencias**\n",
        "\n",
        "Rubik’s Race. (s. f.). https://www.joonas.io/rubik-s-race/"
      ],
      "metadata": {
        "id": "_iugohDDQJ9v"
      }
    }
  ]
}